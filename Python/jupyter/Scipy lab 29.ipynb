{
 "cells": [
  {
   "cell_type": "code",
   "execution_count": 10,
   "id": "074d89d8-5cd4-41f3-befd-3932289e7742",
   "metadata": {},
   "outputs": [
    {
     "name": "stdout",
     "output_type": "stream",
     "text": [
      "          Name  Height (inches)\n",
      "0     Person 1            60.03\n",
      "1     Person 2            49.51\n",
      "2     Person 3            82.97\n",
      "3     Person 4            64.19\n",
      "4     Person 5            54.42\n",
      "..         ...              ...\n",
      "95   Person 96            76.69\n",
      "96   Person 97            68.06\n",
      "97   Person 98            57.89\n",
      "98   Person 99            63.56\n",
      "99  Person 100            81.85\n",
      "\n",
      "[100 rows x 2 columns]\n",
      "Updated data with new Height(cm) column\n",
      "          Name  Height (inches)  Height (cm)\n",
      "0     Person 1            60.03       152.48\n",
      "1     Person 2            49.51       125.76\n",
      "2     Person 3            82.97       210.74\n",
      "3     Person 4            64.19       163.04\n",
      "4     Person 5            54.42       138.23\n",
      "..         ...              ...          ...\n",
      "95   Person 96            76.69       194.79\n",
      "96   Person 97            68.06       172.87\n",
      "97   Person 98            57.89       147.04\n",
      "98   Person 99            63.56       161.44\n",
      "99  Person 100            81.85       207.90\n",
      "\n",
      "[100 rows x 3 columns]\n"
     ]
    }
   ],
   "source": [
    "import pandas as pd\n",
    "from scipy.constants import inch, centi\n",
    "\n",
    "url = \"https://raw.githubusercontent.com/AnudipAE/DANLC/master/people_heights.csv\"\n",
    "\n",
    "df = pd.read_csv(url)\n",
    "print(df)\n",
    "\n",
    "# convert inches into cm\n",
    "df[\"Height (cm)\"] = (( df[\"Height (inches)\"]*inch ) / centi).round(2)\n",
    "print(\"Updated data with new Height(cm) column\")\n",
    "print(df)\n",
    "df.to_csv(\"UpdatedHeights.csv\", index=False)"
   ]
  },
  {
   "cell_type": "code",
   "execution_count": null,
   "id": "b4a3e7d5-d889-4f84-99e8-382768d0d123",
   "metadata": {},
   "outputs": [],
   "source": []
  },
  {
   "cell_type": "code",
   "execution_count": 14,
   "id": "b115f401-256c-4c04-95c7-93dd41bd37e3",
   "metadata": {},
   "outputs": [
    {
     "name": "stdout",
     "output_type": "stream",
     "text": [
      "        Filename  Size (GB)\n",
      "0     file_1.txt       9.72\n",
      "1     file_2.txt       9.81\n",
      "2     file_3.txt       5.61\n",
      "3     file_4.txt       4.58\n",
      "4     file_5.txt       5.52\n",
      "..           ...        ...\n",
      "95   file_96.txt       1.29\n",
      "96   file_97.txt       7.11\n",
      "97   file_98.txt       4.86\n",
      "98   file_99.txt       7.89\n",
      "99  file_100.txt       5.52\n",
      "\n",
      "[100 rows x 2 columns]\n",
      "Updated data with new Size(MB) column\n",
      "        Filename  Size (GB)  Size(MB)\n",
      "0     file_1.txt       9.72    9720.0\n",
      "1     file_2.txt       9.81    9810.0\n",
      "2     file_3.txt       5.61    5610.0\n",
      "3     file_4.txt       4.58    4580.0\n",
      "4     file_5.txt       5.52    5520.0\n",
      "..           ...        ...       ...\n",
      "95   file_96.txt       1.29    1290.0\n",
      "96   file_97.txt       7.11    7110.0\n",
      "97   file_98.txt       4.86    4860.0\n",
      "98   file_99.txt       7.89    7890.0\n",
      "99  file_100.txt       5.52    5520.0\n",
      "\n",
      "[100 rows x 3 columns]\n"
     ]
    }
   ],
   "source": [
    "import pandas as pd\n",
    "from scipy.constants import mega, giga\n",
    "\n",
    "url = \"https://raw.githubusercontent.com/AnudipAE/DANLC/master/file_size.csv\"\n",
    "\n",
    "df = pd.read_csv(url)\n",
    "print(df)\n",
    "\n",
    "# convert file size from GB to MB\n",
    "df[\"Size(MB)\"] = (df[\"Size (GB)\"] * giga / mega)\n",
    "print(\"Updated data with new Size(MB) column\")\n",
    "print(df)\n",
    "\n",
    "df.to_csv(\"UpdatedSize.csv\", index=False)"
   ]
  },
  {
   "cell_type": "code",
   "execution_count": null,
   "id": "ac06d2d0-e827-4c73-bd7c-142890d5aac1",
   "metadata": {},
   "outputs": [],
   "source": []
  },
  {
   "cell_type": "code",
   "execution_count": null,
   "id": "9a1267e1-2452-409c-a5d5-2a04130383c1",
   "metadata": {},
   "outputs": [],
   "source": []
  },
  {
   "cell_type": "code",
   "execution_count": null,
   "id": "ea7f0388-4bfc-4a9f-a2f1-68d99b81c143",
   "metadata": {},
   "outputs": [],
   "source": []
  },
  {
   "cell_type": "code",
   "execution_count": null,
   "id": "44b0ec68-bbe3-46bd-9e5e-67c7e8989348",
   "metadata": {},
   "outputs": [],
   "source": []
  },
  {
   "cell_type": "code",
   "execution_count": null,
   "id": "dcfef886-6be4-4641-bc11-8d3ef6decd69",
   "metadata": {},
   "outputs": [],
   "source": []
  },
  {
   "cell_type": "code",
   "execution_count": null,
   "id": "e8cffba1-71b7-4fad-b3b0-2ddde2528055",
   "metadata": {},
   "outputs": [],
   "source": []
  },
  {
   "cell_type": "code",
   "execution_count": null,
   "id": "104baa69-e7c2-44e9-b800-b34f6c8a22d7",
   "metadata": {},
   "outputs": [],
   "source": []
  },
  {
   "cell_type": "code",
   "execution_count": null,
   "id": "2db6b5d9-60a0-4f4f-97ba-c98d8ab5447e",
   "metadata": {},
   "outputs": [],
   "source": []
  },
  {
   "cell_type": "code",
   "execution_count": null,
   "id": "709c7b9c-eb08-433f-80f0-7c7016cb49bb",
   "metadata": {},
   "outputs": [],
   "source": []
  },
  {
   "cell_type": "code",
   "execution_count": null,
   "id": "107aa305-832e-4040-a6ce-9c4c645e6d91",
   "metadata": {},
   "outputs": [],
   "source": []
  },
  {
   "cell_type": "code",
   "execution_count": null,
   "id": "cd014f44-9ff3-40a8-97a6-2fba2f76a6e0",
   "metadata": {},
   "outputs": [],
   "source": []
  },
  {
   "cell_type": "code",
   "execution_count": null,
   "id": "95614083-5ace-4db5-849c-11dfb6882a6f",
   "metadata": {},
   "outputs": [],
   "source": []
  }
 ],
 "metadata": {
  "kernelspec": {
   "display_name": "Python 3 (ipykernel)",
   "language": "python",
   "name": "python3"
  },
  "language_info": {
   "codemirror_mode": {
    "name": "ipython",
    "version": 3
   },
   "file_extension": ".py",
   "mimetype": "text/x-python",
   "name": "python",
   "nbconvert_exporter": "python",
   "pygments_lexer": "ipython3",
   "version": "3.12.2"
  }
 },
 "nbformat": 4,
 "nbformat_minor": 5
}
