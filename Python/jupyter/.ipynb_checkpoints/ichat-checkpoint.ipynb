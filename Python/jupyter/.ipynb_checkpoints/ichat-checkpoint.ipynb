{
 "cells": [
  {
   "cell_type": "code",
   "execution_count": 1,
   "id": "18ccdd11-aaeb-4aec-8f27-473d600615a0",
   "metadata": {},
   "outputs": [
    {
     "name": "stdout",
     "output_type": "stream",
     "text": [
      "Customers in both january and february:  {104, 102}\n"
     ]
    }
   ],
   "source": [
    "january_customers = {101, 102, 103, 104, 105}\n",
    "february_customers = {102, 104, 106, 107, 108}\n",
    "\n",
    "common = january_customers.intersection(february_customers)\n",
    "print(\"Customers in both january and february: \",common)"
   ]
  },
  {
   "cell_type": "code",
   "execution_count": 2,
   "id": "7d6aeb25-4cf4-4448-a29a-8c3204631419",
   "metadata": {},
   "outputs": [
    {
     "name": "stdout",
     "output_type": "stream",
     "text": [
      "Customers who made purchases in both January and February: {104, 102}\n"
     ]
    }
   ],
   "source": [
    "# Sample data: Customer IDs who made purchases in January and February\n",
    "january_customers = {101, 102, 103, 104, 105}\n",
    "february_customers = {102, 104, 106, 107, 108}\n",
    "\n",
    "# Find customers who made purchases in both January and February\n",
    "customers_both_months = january_customers.intersection(february_customers)\n",
    "\n",
    "# Alternatively, you can also use the & operator\n",
    "# customers_both_months = january_customers & february_customers\n",
    "\n",
    "# Print the results\n",
    "if customers_both_months:\n",
    "    print(\"Customers who made purchases in both January and February:\", customers_both_months)\n",
    "else:\n",
    "    print(\"No customers made purchases in both months.\")\n"
   ]
  },
  {
   "cell_type": "code",
   "execution_count": 3,
   "id": "315973e9-6137-4549-a17a-057ca02ddfac",
   "metadata": {},
   "outputs": [
    {
     "name": "stdout",
     "output_type": "stream",
     "text": [
      "The average temperature for the week is: 25.90°C\n"
     ]
    }
   ],
   "source": [
    "# Sample daily temperatures for a week (including some invalid values)\n",
    "temperatures = [25.5, 26.0, 'abc', 24.8, 27.3, '', 25.9]\n",
    "\n",
    "# Initialize variables for calculating the average\n",
    "valid_temperatures = []\n",
    "\n",
    "# Filter out valid temperature values\n",
    "for temp in temperatures:\n",
    "    try:\n",
    "        # Attempt to convert the temperature to a float\n",
    "        valid_temp = float(temp)\n",
    "        valid_temperatures.append(valid_temp)\n",
    "    except (ValueError, TypeError):\n",
    "        # Handle invalid or missing values by skipping them\n",
    "        continue\n",
    "\n",
    "# Calculate the average temperature\n",
    "if valid_temperatures:\n",
    "    average_temperature = sum(valid_temperatures) / len(valid_temperatures)\n",
    "else:\n",
    "    average_temperature = None  # Handle case with no valid temperatures\n",
    "\n",
    "# Print the results\n",
    "if average_temperature is not None:\n",
    "    print(f\"The average temperature for the week is: {average_temperature:.2f}°C\")\n",
    "else:\n",
    "    print(\"No valid temperature data available to calculate an average.\")\n"
   ]
  },
  {
   "cell_type": "code",
   "execution_count": 4,
   "id": "5f69d974-fa83-4960-9dd9-a75eca227961",
   "metadata": {},
   "outputs": [
    {
     "name": "stdout",
     "output_type": "stream",
     "text": [
      "Product Name: Laptop\n",
      "Product Price: $999\n"
     ]
    }
   ],
   "source": [
    "# Sample string containing product name and price\n",
    "product_info = \"Laptop, $999\"\n",
    "\n",
    "# Split the string into product name and price\n",
    "try:\n",
    "    product_name, product_price = product_info.split(\", \")\n",
    "    \n",
    "    # Print the extracted values\n",
    "    print(f\"Product Name: {product_name}\")\n",
    "    print(f\"Product Price: {product_price.strip()}\")  # Using strip to remove any extra spaces\n",
    "except ValueError:\n",
    "    print(\"Error: The input string does not contain valid product information.\")\n",
    "\n"
   ]
  },
  {
   "cell_type": "code",
   "execution_count": 5,
   "id": "3daf1dd6-d112-4f72-a628-72e44fe70b18",
   "metadata": {},
   "outputs": [
    {
     "name": "stdout",
     "output_type": "stream",
     "text": [
      "Average Score: 83.60\n",
      "Maximum Score: 95\n",
      "Minimum Score: 70\n"
     ]
    }
   ],
   "source": [
    "# Sample dataset of student scores\n",
    "scores = [85, 90, 75, 80, 95, 70, 88, 92, 78, 83]\n",
    "\n",
    "# Check if the scores list is not empty\n",
    "if scores:\n",
    "    # Calculate average score\n",
    "    average_score = sum(scores) / len(scores)\n",
    "\n",
    "    # Calculate maximum and minimum scores\n",
    "    max_score = max(scores)\n",
    "    min_score = min(scores)\n",
    "\n",
    "    # Print the results\n",
    "    print(f\"Average Score: {average_score:.2f}\")\n",
    "    print(f\"Maximum Score: {max_score}\")\n",
    "    print(f\"Minimum Score: {min_score}\")\n",
    "else:\n",
    "    print(\"No scores available to calculate.\")\n"
   ]
  },
  {
   "cell_type": "code",
   "execution_count": 7,
   "id": "b6efdf2d-639e-47b6-80c5-b54ab996f58a",
   "metadata": {},
   "outputs": [
    {
     "name": "stdout",
     "output_type": "stream",
     "text": [
      "21\n"
     ]
    }
   ],
   "source": [
    "import numpy as np\n",
    "\n",
    "arr = np.array([[1, 2, 3], [4, 5, 6]])\n",
    "\n",
    "result = np.sum(arr)\n",
    "\n",
    "print(result)"
   ]
  },
  {
   "cell_type": "code",
   "execution_count": 8,
   "id": "1e86a73a-5640-4d81-8646-359b09eb701f",
   "metadata": {},
   "outputs": [
    {
     "name": "stdout",
     "output_type": "stream",
     "text": [
      "float64\n"
     ]
    }
   ],
   "source": [
    "import numpy as np\n",
    "arr = np.array([1, 2, 3], dtype='float')\n",
    "print(arr.dtype)"
   ]
  },
  {
   "cell_type": "code",
   "execution_count": 10,
   "id": "903bc0f5-ccba-490d-96ae-ac2bdc83ca2a",
   "metadata": {},
   "outputs": [
    {
     "data": {
      "text/plain": [
       "array([2, 4, 6, 8])"
      ]
     },
     "execution_count": 10,
     "metadata": {},
     "output_type": "execute_result"
    }
   ],
   "source": [
    "import numpy as np\n",
    "\n",
    "arr = np.arange(2, 10, 2)\n",
    "arr"
   ]
  },
  {
   "cell_type": "code",
   "execution_count": 12,
   "id": "573b5886-3709-4609-b859-88410a8d0a81",
   "metadata": {},
   "outputs": [
    {
     "name": "stdout",
     "output_type": "stream",
     "text": [
      "0 apple\n",
      "1 banana\n",
      "2 cherry\n"
     ]
    }
   ],
   "source": [
    "fruits = [\"apple\", \"banana\", \"cherry\"] \n",
    "for index, fruit in enumerate(fruits): \n",
    "    print(index, fruit)"
   ]
  },
  {
   "cell_type": "code",
   "execution_count": 13,
   "id": "026b1992-f584-48b8-ae65-892e77073e52",
   "metadata": {},
   "outputs": [
    {
     "name": "stdout",
     "output_type": "stream",
     "text": [
      "ValueError\n"
     ]
    }
   ],
   "source": [
    "try:\n",
    "\n",
    "  raise ValueError(\"This is a custom exception.\")\n",
    "\n",
    "except Exception as e:\n",
    "\n",
    "  print(type(e).__name__)"
   ]
  },
  {
   "cell_type": "code",
   "execution_count": 14,
   "id": "b1d1298d-c304-4145-848c-eb9ca2e25234",
   "metadata": {},
   "outputs": [
    {
     "name": "stdout",
     "output_type": "stream",
     "text": [
      "Invalid conversion.\n"
     ]
    }
   ],
   "source": [
    "try: \n",
    "    num = int(\"abc\") \n",
    "\n",
    "except ValueError: \n",
    "\n",
    " print(\"Invalid conversion.\") \n",
    "\n",
    "else: \n",
    "\n",
    " print(\"Conversion successful.\")"
   ]
  },
  {
   "cell_type": "code",
   "execution_count": 16,
   "id": "07001973-306a-4a1f-a3a7-4f3a125e19f3",
   "metadata": {},
   "outputs": [
    {
     "name": "stdout",
     "output_type": "stream",
     "text": [
      "1\n",
      "2\n"
     ]
    }
   ],
   "source": [
    "numbers = [1, 2, 3, 4, 5]\n",
    "\n",
    "for num in numbers:\n",
    "  if num == 3:\n",
    "      break\n",
    "  print(num)"
   ]
  },
  {
   "cell_type": "code",
   "execution_count": null,
   "id": "2771788c-3b5e-4440-97a5-89d8a09835b0",
   "metadata": {},
   "outputs": [],
   "source": []
  },
  {
   "cell_type": "code",
   "execution_count": null,
   "id": "fa2f4a01-eb4b-45ec-a850-058f6f8f8761",
   "metadata": {},
   "outputs": [],
   "source": []
  },
  {
   "cell_type": "code",
   "execution_count": null,
   "id": "ecc6a3dc-798a-48f6-99fc-4eeed0c582fa",
   "metadata": {},
   "outputs": [],
   "source": []
  },
  {
   "cell_type": "code",
   "execution_count": 6,
   "id": "332828a1-ef64-4083-b1ac-7f9e45b79d7f",
   "metadata": {},
   "outputs": [
    {
     "name": "stdout",
     "output_type": "stream",
     "text": [
      "[1 2 3 4 5 6]\n"
     ]
    }
   ],
   "source": [
    "import numpy as np\n",
    "\n",
    "arr1 = np.array([1, 2, 3])\n",
    "\n",
    "arr2 = np.array([4, 5, 6])\n",
    "\n",
    "result = np.concatenate((arr1, arr2))\n",
    "\n",
    "print(result)"
   ]
  },
  {
   "cell_type": "code",
   "execution_count": null,
   "id": "de0f00c3-a154-4ef0-98ba-f9b36b00fbcf",
   "metadata": {},
   "outputs": [],
   "source": []
  },
  {
   "cell_type": "code",
   "execution_count": null,
   "id": "2ef2aff8-03b3-4395-a543-61755ed0d2c5",
   "metadata": {},
   "outputs": [],
   "source": []
  },
  {
   "cell_type": "code",
   "execution_count": null,
   "id": "9ea8af63-0ddf-4d25-a571-50f39cc6ce17",
   "metadata": {},
   "outputs": [],
   "source": []
  },
  {
   "cell_type": "code",
   "execution_count": null,
   "id": "1c3b5250-9985-4b8e-8563-36d8a5745944",
   "metadata": {},
   "outputs": [],
   "source": []
  },
  {
   "cell_type": "code",
   "execution_count": null,
   "id": "3c2a4f3f-3c63-4d93-ac3b-06b8ab01adb2",
   "metadata": {},
   "outputs": [],
   "source": []
  }
 ],
 "metadata": {
  "kernelspec": {
   "display_name": "Python 3 (ipykernel)",
   "language": "python",
   "name": "python3"
  },
  "language_info": {
   "codemirror_mode": {
    "name": "ipython",
    "version": 3
   },
   "file_extension": ".py",
   "mimetype": "text/x-python",
   "name": "python",
   "nbconvert_exporter": "python",
   "pygments_lexer": "ipython3",
   "version": "3.12.2"
  }
 },
 "nbformat": 4,
 "nbformat_minor": 5
}
