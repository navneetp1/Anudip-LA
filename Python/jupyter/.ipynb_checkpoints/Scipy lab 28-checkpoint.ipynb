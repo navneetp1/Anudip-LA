{
 "cells": [
  {
   "cell_type": "code",
   "execution_count": 1,
   "id": "6991f129-972a-446d-8786-5b10223df583",
   "metadata": {},
   "outputs": [
    {
     "name": "stdout",
     "output_type": "stream",
     "text": [
      "1.14.1\n"
     ]
    }
   ],
   "source": [
    "import scipy as sc\n",
    "print(sc.__version__)"
   ]
  },
  {
   "cell_type": "code",
   "execution_count": 4,
   "id": "c5d4b67c-dddb-4512-8daf-4c7c6884ed83",
   "metadata": {},
   "outputs": [
    {
     "name": "stdout",
     "output_type": "stream",
     "text": [
      "   CircleName    Radius\n",
      "0         SAY  3.798717\n",
      "1         PSN  9.958397\n",
      "2         JDP  5.142711\n",
      "3         AUO  3.319584\n",
      "4         OHG  1.138395\n",
      "..        ...       ...\n",
      "95        PVZ  7.798122\n",
      "96        SQR  5.133239\n",
      "97        NSM  9.761868\n",
      "98        SXE  6.774164\n",
      "99        JNT  2.823492\n",
      "\n",
      "[100 rows x 2 columns]\n"
     ]
    },
    {
     "data": {
      "text/html": [
       "<div>\n",
       "<style scoped>\n",
       "    .dataframe tbody tr th:only-of-type {\n",
       "        vertical-align: middle;\n",
       "    }\n",
       "\n",
       "    .dataframe tbody tr th {\n",
       "        vertical-align: top;\n",
       "    }\n",
       "\n",
       "    .dataframe thead th {\n",
       "        text-align: right;\n",
       "    }\n",
       "</style>\n",
       "<table border=\"1\" class=\"dataframe\">\n",
       "  <thead>\n",
       "    <tr style=\"text-align: right;\">\n",
       "      <th></th>\n",
       "      <th>CircleName</th>\n",
       "      <th>Radius</th>\n",
       "      <th>Area(sq. m)</th>\n",
       "    </tr>\n",
       "  </thead>\n",
       "  <tbody>\n",
       "    <tr>\n",
       "      <th>0</th>\n",
       "      <td>SAY</td>\n",
       "      <td>3.798717</td>\n",
       "      <td>45.33</td>\n",
       "    </tr>\n",
       "    <tr>\n",
       "      <th>1</th>\n",
       "      <td>PSN</td>\n",
       "      <td>9.958397</td>\n",
       "      <td>311.55</td>\n",
       "    </tr>\n",
       "    <tr>\n",
       "      <th>2</th>\n",
       "      <td>JDP</td>\n",
       "      <td>5.142711</td>\n",
       "      <td>83.09</td>\n",
       "    </tr>\n",
       "    <tr>\n",
       "      <th>3</th>\n",
       "      <td>AUO</td>\n",
       "      <td>3.319584</td>\n",
       "      <td>34.62</td>\n",
       "    </tr>\n",
       "    <tr>\n",
       "      <th>4</th>\n",
       "      <td>OHG</td>\n",
       "      <td>1.138395</td>\n",
       "      <td>4.07</td>\n",
       "    </tr>\n",
       "    <tr>\n",
       "      <th>...</th>\n",
       "      <td>...</td>\n",
       "      <td>...</td>\n",
       "      <td>...</td>\n",
       "    </tr>\n",
       "    <tr>\n",
       "      <th>95</th>\n",
       "      <td>PVZ</td>\n",
       "      <td>7.798122</td>\n",
       "      <td>191.04</td>\n",
       "    </tr>\n",
       "    <tr>\n",
       "      <th>96</th>\n",
       "      <td>SQR</td>\n",
       "      <td>5.133239</td>\n",
       "      <td>82.78</td>\n",
       "    </tr>\n",
       "    <tr>\n",
       "      <th>97</th>\n",
       "      <td>NSM</td>\n",
       "      <td>9.761868</td>\n",
       "      <td>299.38</td>\n",
       "    </tr>\n",
       "    <tr>\n",
       "      <th>98</th>\n",
       "      <td>SXE</td>\n",
       "      <td>6.774164</td>\n",
       "      <td>144.17</td>\n",
       "    </tr>\n",
       "    <tr>\n",
       "      <th>99</th>\n",
       "      <td>JNT</td>\n",
       "      <td>2.823492</td>\n",
       "      <td>25.05</td>\n",
       "    </tr>\n",
       "  </tbody>\n",
       "</table>\n",
       "<p>100 rows × 3 columns</p>\n",
       "</div>"
      ],
      "text/plain": [
       "   CircleName    Radius  Area(sq. m)\n",
       "0         SAY  3.798717        45.33\n",
       "1         PSN  9.958397       311.55\n",
       "2         JDP  5.142711        83.09\n",
       "3         AUO  3.319584        34.62\n",
       "4         OHG  1.138395         4.07\n",
       "..        ...       ...          ...\n",
       "95        PVZ  7.798122       191.04\n",
       "96        SQR  5.133239        82.78\n",
       "97        NSM  9.761868       299.38\n",
       "98        SXE  6.774164       144.17\n",
       "99        JNT  2.823492        25.05\n",
       "\n",
       "[100 rows x 3 columns]"
      ]
     },
     "execution_count": 4,
     "metadata": {},
     "output_type": "execute_result"
    }
   ],
   "source": [
    "import pandas as pd\n",
    "from scipy.constants import pi\n",
    "\n",
    "url = \"https://raw.githubusercontent.com/AnudipAE/DANLC/master/radius_data.csv\"\n",
    "df = pd.read_csv(url)\n",
    "print(df)\n",
    "\n",
    "df[\"Area(sq. m)\"] = (pi * df[\"Radius\"]**2).round(2)\n",
    "\n",
    "\n",
    "df.to_csv(\"UpdatedArea.csv\", index=False)\n",
    "df"
   ]
  },
  {
   "cell_type": "code",
   "execution_count": 5,
   "id": "5be7382e-0f99-48db-9e43-366332e2ec8e",
   "metadata": {},
   "outputs": [
    {
     "name": "stdout",
     "output_type": "stream",
     "text": [
      "             City  Temperature (°C)\n",
      "0     Los Angeles              35.8\n",
      "1         Chicago               8.1\n",
      "2   San Francisco               0.2\n",
      "3         Chicago              36.2\n",
      "4          Boston              37.9\n",
      "..            ...               ...\n",
      "95        Seattle              39.7\n",
      "96         Boston               1.5\n",
      "97  San Francisco              36.2\n",
      "98       New York              -0.3\n",
      "99        Chicago              21.1\n",
      "\n",
      "[100 rows x 2 columns]\n"
     ]
    }
   ],
   "source": [
    "import pandas as pd\n",
    "from scipy.constants import pi\n",
    "\n",
    "url = \"https://raw.githubusercontent.com/d4dipdas/DANLC/main/city_temperatures.csv\"\n",
    "df = pd.read_csv(url)\n",
    "print(df)\n",
    "\n",
    "# df[\"Area(sq. m)\"] = (pi * df[\"Radius\"]**2).round(2)\n",
    "\n",
    "\n",
    "# df.to_csv(\"UpdatedArea.csv\", index=False)\n",
    "# df"
   ]
  },
  {
   "cell_type": "code",
   "execution_count": null,
   "id": "dbe6e489-a36f-439c-9b7c-bc5571c7e50c",
   "metadata": {},
   "outputs": [],
   "source": []
  },
  {
   "cell_type": "code",
   "execution_count": null,
   "id": "b82c9634-42b0-4ff5-ab21-293d0ecad4c5",
   "metadata": {},
   "outputs": [],
   "source": []
  },
  {
   "cell_type": "code",
   "execution_count": null,
   "id": "f760bbd3-386b-4941-b3dc-2a9e63e67576",
   "metadata": {},
   "outputs": [],
   "source": []
  },
  {
   "cell_type": "code",
   "execution_count": null,
   "id": "ba0f296a-cabd-4e1f-8b8b-47705c75b6d3",
   "metadata": {},
   "outputs": [],
   "source": []
  }
 ],
 "metadata": {
  "kernelspec": {
   "display_name": "Python 3 (ipykernel)",
   "language": "python",
   "name": "python3"
  },
  "language_info": {
   "codemirror_mode": {
    "name": "ipython",
    "version": 3
   },
   "file_extension": ".py",
   "mimetype": "text/x-python",
   "name": "python",
   "nbconvert_exporter": "python",
   "pygments_lexer": "ipython3",
   "version": "3.12.2"
  }
 },
 "nbformat": 4,
 "nbformat_minor": 5
}
