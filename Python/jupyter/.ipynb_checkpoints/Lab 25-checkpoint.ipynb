{
 "cells": [
  {
   "cell_type": "markdown",
   "id": "b6afc2df-6ed6-43cf-9aef-5c3da51e056f",
   "metadata": {},
   "source": [
    "# Assignment 1"
   ]
  },
  {
   "cell_type": "code",
   "execution_count": 44,
   "id": "6a746ee2-357d-4a11-9da7-4fe85777bb3c",
   "metadata": {},
   "outputs": [
    {
     "name": "stdout",
     "output_type": "stream",
     "text": [
      "Dataframe 1\n",
      "--------------------\n",
      "           Adarsh  John  Samuel  Cheng-Lu\n",
      "Physics        89    90      91        99\n",
      "Chemistry      79    96      95        99\n",
      "Maths          77    80      91        99\n",
      "\n",
      "Dataframe 2\n",
      "--------------------\n",
      "Most Runs(Indian)  Runs\n",
      "      S Tendulkar 34357\n",
      "          V Kohli 27041\n",
      "         R Dravid 24064\n",
      "         R Sharma 19276\n"
     ]
    }
   ],
   "source": [
    "import pandas as pd\n",
    "\n",
    "print(\"Dataframe 1\\n--------------------\")\n",
    "\n",
    "subjects = [\"Physics\", \"Chemistry\", \"Maths\"]\n",
    "marks = [[89,90,91,99], [79,96,95,99], [77,80,91,99]]  # groups of marks of 3 students in each subject\n",
    "students = [\"Adarsh\",\"John\",\"Samuel\",\"Cheng-Lu\"]\n",
    "\n",
    "df = pd.DataFrame(marks, index=subjects, columns=students)\n",
    "print(df)\n",
    "# https://stackoverflow.com/questions/38147447/how-to-remove-square-bracket-from-pandas-dataframe\n",
    "# df[\"Marks\"] = df[\"Marks\"].str.get(0)\n",
    "\n",
    "\n",
    "# print(\"\\nWith no indexing..\")\n",
    "\n",
    "# print()\n",
    "\n",
    "# str_df = df.to_string(index=False)\n",
    "# print(str_df)\n",
    "\n",
    "\n",
    "print(\"\\nDataframe 2\\n--------------------\")\n",
    "\n",
    "df2 = pd.DataFrame({\n",
    "    \"Most Runs(Indian)\": [\"S Tendulkar\", \"V Kohli\", \"R Dravid\",\"R Sharma\"],\n",
    "    \"Runs\": [34357,27041,24064,19276]\n",
    "})\n",
    "\n",
    "print(df2.to_string(index=False))\n"
   ]
  },
  {
   "cell_type": "code",
   "execution_count": null,
   "id": "6c46f995-ccb3-48c0-80c2-244a77712de8",
   "metadata": {},
   "outputs": [],
   "source": [
    "df =pd.DataFrame({'value':['[63]','[65]','[64]']})\n",
    "\n",
    "df[\"Marks\"] = df[\"Marks\"].apply(lambda x: x.replace(\"[\",\"\").replace(\"]\",\"\"))"
   ]
  },
  {
   "cell_type": "markdown",
   "id": "f846de21-e792-45e6-a87e-c8dd91c419f6",
   "metadata": {},
   "source": [
    "# Reading from CSV - Assignment 2"
   ]
  },
  {
   "cell_type": "code",
   "execution_count": 76,
   "id": "f1d27539-e320-4b52-a504-b89f5f3c3e15",
   "metadata": {},
   "outputs": [
    {
     "name": "stdout",
     "output_type": "stream",
     "text": [
      "            Student Name  Attendance  MCQs completed  Labs completed\n",
      "          Dashmeet Singh          95              87              88\n",
      "                Mr Ketan          66              17              36\n",
      "           Harsh panchal          40              17              48\n",
      "       Rahil Ahmad  khan          79              46              61\n",
      "            vishal singh          13               0               4\n",
      "           Kishan Mishra          31              18              18\n",
      "           Shubham Kumar          60              72              83\n",
      "              Sonal Garg          66              46              65\n",
      "         RATAN SRIVASTAV          71              83              82\n",
      "             Rohit verma          89              85              85\n",
      "           Yashika Gupta          80              86              84\n",
      "      Dishant Kumar Moga          75              83              85\n",
      "              Abhishek .          73              65              66\n",
      "             Aryan Verma          88              90              88\n",
      "                Ankush .          94              79              87\n",
      "             Riya Singla          78              76              80\n",
      "          Rajneesh Singh          51              19               7\n",
      "        Khushi Chaudhary          13               0              11\n",
      "Chauhan Vandana Ramdayal          87              88              85\n",
      "             Bittu Samui          43              36              14\n",
      "          Vikranth Singh          12              17              31\n",
      "         Divyanshi Dyori          20              16              27\n",
      "             Kunal Bisht          12              16               7\n",
      "               Navneet P          96              94              87\n",
      "        Abhinandan Kumar          93              92              80\n",
      "             Aafrin Alam          56              89              84\n"
     ]
    }
   ],
   "source": [
    "import pandas as pd\n",
    "\n",
    "data = pd.read_csv(\"8362_data.csv\")\n",
    "# data.to_string(index=False)\n",
    "names = data[\"Student Name\"]\n",
    "attd = data[\"Attendance %\"]\n",
    "mcq = data[\"FD MCQ %\"]\n",
    "lab = data[\"TD Lab %\"]\n",
    "# print(names,attd,mcq,lab)\n",
    "\n",
    "# cols = list(data.columns)\n",
    "# for i,c in enumerate(cols):\n",
    "#     print(f\"{chr(65+i)} - {c}\")\n",
    "\n",
    "\n",
    "new_data = pd.DataFrame({\n",
    "    \"Student Name\": names,\n",
    "    \"Attendance\": attd,\n",
    "    \"MCQs completed\": mcq,\n",
    "    \"Labs completed\": lab\n",
    "})\n",
    "display_data = new_data.to_string(index=False)\n",
    "\n",
    "print(display_data)\n"
   ]
  },
  {
   "cell_type": "markdown",
   "id": "cb597468-fc7d-41f7-a657-a8b8b8fd5e89",
   "metadata": {},
   "source": [
    "# Assignment 3"
   ]
  },
  {
   "cell_type": "code",
   "execution_count": 109,
   "id": "6f6fd336-4462-41e2-aadd-e364572cc094",
   "metadata": {
    "scrolled": true
   },
   "outputs": [
    {
     "name": "stdout",
     "output_type": "stream",
     "text": [
      "            Student Name  Attendance  MCQs completed  Labs completed\n",
      "          Dashmeet Singh          95              87              88\n",
      "                Mr Ketan          66              17              36\n",
      "           Harsh panchal          40              17              48\n",
      "       Rahil Ahmad  khan          79              46              61\n",
      "            vishal singh          13               0               4\n",
      "           Kishan Mishra          31              18              18\n",
      "           Shubham Kumar          60              72              83\n",
      "              Sonal Garg          66              46              65\n",
      "         RATAN SRIVASTAV          71              83              82\n",
      "             Rohit verma          89              85              85\n",
      "           Yashika Gupta          80              86              84\n",
      "      Dishant Kumar Moga          75              83              85\n",
      "              Abhishek .          73              65              66\n",
      "             Aryan Verma          88              90              88\n",
      "                Ankush .          94              79              87\n",
      "             Riya Singla          78              76              80\n",
      "          Rajneesh Singh          51              19               7\n",
      "        Khushi Chaudhary          13               0              11\n",
      "Chauhan Vandana Ramdayal          87              88              85\n",
      "             Bittu Samui          43              36              14\n",
      "          Vikranth Singh          12              17              31\n",
      "         Divyanshi Dyori          20              16              27\n",
      "             Kunal Bisht          12              16               7\n",
      "               Navneet P          96              94              87\n",
      "        Abhinandan Kumar          93              92              80\n",
      "             Aafrin Alam          56              89              84\n",
      "\n",
      "Bottom 4\n",
      "------------------------------------------------------------------------------------------\n",
      "     Student Name  Attendance  MCQs completed  Labs completed\n",
      "     Kunal Bisht          12              16               7\n",
      "       Navneet P          96              94              87\n",
      "Abhinandan Kumar          93              92              80\n",
      "     Aafrin Alam          56              89              84\n",
      "\n",
      "Top 4\n",
      "------------------------------------------------------------------------------------------\n",
      "      Student Name  Attendance  MCQs completed  Labs completed\n",
      "   Dashmeet Singh          95              87              88\n",
      "         Mr Ketan          66              17              36\n",
      "    Harsh panchal          40              17              48\n",
      "Rahil Ahmad  khan          79              46              61\n",
      "\n",
      "Rest Students\n",
      "------------------------------------------------------------------------------------------\n",
      "             Student Name  Attendance  MCQs completed  Labs completed\n",
      "            vishal singh          13               0               4\n",
      "           Kishan Mishra          31              18              18\n",
      "           Shubham Kumar          60              72              83\n",
      "              Sonal Garg          66              46              65\n",
      "         RATAN SRIVASTAV          71              83              82\n",
      "             Rohit verma          89              85              85\n",
      "           Yashika Gupta          80              86              84\n",
      "      Dishant Kumar Moga          75              83              85\n",
      "              Abhishek .          73              65              66\n",
      "             Aryan Verma          88              90              88\n",
      "                Ankush .          94              79              87\n",
      "             Riya Singla          78              76              80\n",
      "          Rajneesh Singh          51              19               7\n",
      "        Khushi Chaudhary          13               0              11\n",
      "Chauhan Vandana Ramdayal          87              88              85\n",
      "             Bittu Samui          43              36              14\n",
      "          Vikranth Singh          12              17              31\n",
      "         Divyanshi Dyori          20              16              27\n"
     ]
    }
   ],
   "source": [
    "import pandas as pd\n",
    "\n",
    "def line():\n",
    "    return \"-\"*90\n",
    "\n",
    "\n",
    "data = pd.read_csv(\"8362_data.csv\")\n",
    "# data.to_string(index=False)\n",
    "names = data[\"Student Name\"]\n",
    "attd = data[\"Attendance %\"]\n",
    "mcq = data[\"FD MCQ %\"]\n",
    "lab = data[\"TD Lab %\"]\n",
    "\n",
    "\n",
    "new_data = pd.DataFrame({\n",
    "    \"Student Name\": names,\n",
    "    \"Attendance\": attd,\n",
    "    \"MCQs completed\": mcq,\n",
    "    \"Labs completed\": lab\n",
    "})\n",
    "display_data = new_data.to_string(index=False)\n",
    "\n",
    "print(display_data)\n",
    "\n",
    "# tail\n",
    "print(f\"\\nBottom 4\\n{line()}\\n\", new_data.tail(4).to_string(index=False))\n",
    "print(f\"\\nTop 4\\n{line()}\\n\", new_data.head(4).to_string(index=False))\n",
    "print(f\"\\nRest Students\\n{line()}\\n\", new_data.loc[4:21].to_string(index=False))\n"
   ]
  },
  {
   "cell_type": "markdown",
   "id": "3a6060f9-6279-46ca-abd2-49aa5c5ff158",
   "metadata": {},
   "source": [
    "# Saving into a csv file"
   ]
  },
  {
   "cell_type": "code",
   "execution_count": null,
   "id": "d494826a-c8df-4b7c-8868-e4c10bb952d8",
   "metadata": {},
   "outputs": [],
   "source": [
    "import pandas as pd\n",
    "\n",
    "data = pd.read_csv(\"8362_data.csv\")\n",
    "# data.to_string(index=False)\n",
    "names = data[\"Student Name\"]\n",
    "attd = data[\"Attendance %\"]\n",
    "mcq = data[\"FD MCQ %\"]\n",
    "lab = data[\"TD Lab %\"]\n",
    "\n",
    "new_data = pd.DataFrame({\n",
    "    \"Student Name\": names,\n",
    "    \"Attendance\": attd,\n",
    "    \"MCQs completed\": mcq,\n",
    "    \"Labs completed\": lab\n",
    "})\n",
    "display_data = new_data.to_string(index=False)\n",
    "\n",
    "print(display_data)\n",
    "\n",
    "new_data.to_csv(\"Filtered Data.csv\", index=False)\n"
   ]
  },
  {
   "cell_type": "code",
   "execution_count": null,
   "id": "5a2ec8ba-a1c1-440c-94db-2fed97ffc053",
   "metadata": {},
   "outputs": [],
   "source": []
  },
  {
   "cell_type": "code",
   "execution_count": null,
   "id": "e7a631d0-6162-42f9-be46-0724bb57b0ff",
   "metadata": {},
   "outputs": [],
   "source": []
  },
  {
   "cell_type": "code",
   "execution_count": null,
   "id": "8c8b9247-6d4e-4c22-95da-cf2d51b0bd5e",
   "metadata": {},
   "outputs": [],
   "source": []
  },
  {
   "cell_type": "code",
   "execution_count": null,
   "id": "3384e9c0-dd9c-44b9-bbf7-ffc214cc1d01",
   "metadata": {},
   "outputs": [],
   "source": []
  },
  {
   "cell_type": "code",
   "execution_count": null,
   "id": "79c6e1a0-8da3-41b2-9541-45f1009952b3",
   "metadata": {},
   "outputs": [],
   "source": []
  },
  {
   "cell_type": "code",
   "execution_count": null,
   "id": "52541ab5-20d6-4f1f-bf47-a63b7e8fb555",
   "metadata": {},
   "outputs": [],
   "source": []
  },
  {
   "cell_type": "code",
   "execution_count": null,
   "id": "7868eb49-5a82-4492-808c-8567842043cc",
   "metadata": {},
   "outputs": [],
   "source": []
  },
  {
   "cell_type": "code",
   "execution_count": null,
   "id": "feb28bd0-4bf7-4108-bc85-5e1d4fec0106",
   "metadata": {},
   "outputs": [],
   "source": []
  },
  {
   "cell_type": "code",
   "execution_count": null,
   "id": "3fa358ae-41e5-43ea-898d-e9442137d920",
   "metadata": {},
   "outputs": [],
   "source": []
  },
  {
   "cell_type": "code",
   "execution_count": null,
   "id": "07e693a6-f30e-4aa0-b3b3-1807bd9f3199",
   "metadata": {},
   "outputs": [],
   "source": []
  },
  {
   "cell_type": "code",
   "execution_count": null,
   "id": "a1fc3a02-8beb-45c6-b5f7-f2e96565776c",
   "metadata": {},
   "outputs": [],
   "source": []
  },
  {
   "cell_type": "code",
   "execution_count": null,
   "id": "61e68937-2eaf-4efe-a068-1589f699488e",
   "metadata": {},
   "outputs": [],
   "source": []
  },
  {
   "cell_type": "code",
   "execution_count": null,
   "id": "af7aa079-9590-4770-8bc8-3187a677a9f9",
   "metadata": {},
   "outputs": [],
   "source": []
  },
  {
   "cell_type": "code",
   "execution_count": null,
   "id": "0d8bae92-44dd-4c80-b4b5-97b3d0b45905",
   "metadata": {},
   "outputs": [],
   "source": []
  },
  {
   "cell_type": "code",
   "execution_count": null,
   "id": "904ca70d-ac40-45b7-ba06-7549aa2f37f3",
   "metadata": {},
   "outputs": [],
   "source": []
  },
  {
   "cell_type": "code",
   "execution_count": null,
   "id": "12e9f215-7d7d-4aeb-aaf9-46c160b3d8d9",
   "metadata": {},
   "outputs": [],
   "source": []
  },
  {
   "cell_type": "code",
   "execution_count": null,
   "id": "df928d3c-29f3-43b9-8ba5-f98e9480a43b",
   "metadata": {},
   "outputs": [],
   "source": []
  },
  {
   "cell_type": "code",
   "execution_count": null,
   "id": "0e4a40ee-50b1-49fa-b342-f3d1d01ab77a",
   "metadata": {},
   "outputs": [],
   "source": []
  },
  {
   "cell_type": "code",
   "execution_count": null,
   "id": "961c87d3-0b90-412d-a3d9-f82df00527d9",
   "metadata": {},
   "outputs": [],
   "source": []
  },
  {
   "cell_type": "code",
   "execution_count": null,
   "id": "784e860c-7e0d-42ab-b6cc-295fc6a568ff",
   "metadata": {},
   "outputs": [],
   "source": []
  },
  {
   "cell_type": "code",
   "execution_count": null,
   "id": "b4f52da4-29a4-43f2-8956-a63b377f45e1",
   "metadata": {},
   "outputs": [],
   "source": []
  },
  {
   "cell_type": "code",
   "execution_count": null,
   "id": "d18dae5c-c909-4651-8354-386c0208493c",
   "metadata": {},
   "outputs": [],
   "source": []
  },
  {
   "cell_type": "code",
   "execution_count": null,
   "id": "582a1fcb-7463-4ebd-93be-9f5267c2d0b2",
   "metadata": {},
   "outputs": [],
   "source": []
  },
  {
   "cell_type": "code",
   "execution_count": null,
   "id": "f45bb49c-713c-4780-b73e-6880902350cb",
   "metadata": {},
   "outputs": [],
   "source": []
  },
  {
   "cell_type": "code",
   "execution_count": null,
   "id": "8685fc4f-7298-47f8-8f9f-f969e0a117c6",
   "metadata": {},
   "outputs": [],
   "source": []
  },
  {
   "cell_type": "code",
   "execution_count": null,
   "id": "a93c72e2-0925-4069-857c-176785919c1f",
   "metadata": {},
   "outputs": [],
   "source": []
  },
  {
   "cell_type": "code",
   "execution_count": null,
   "id": "21e60151-b2cd-4e10-b270-fdf515249eb3",
   "metadata": {},
   "outputs": [],
   "source": []
  },
  {
   "cell_type": "code",
   "execution_count": null,
   "id": "29beda74-e46c-4ff4-b2aa-2381f74ffd37",
   "metadata": {},
   "outputs": [],
   "source": []
  },
  {
   "cell_type": "code",
   "execution_count": null,
   "id": "1d0824c4-337f-43a6-9fff-b306a34b1949",
   "metadata": {},
   "outputs": [],
   "source": []
  },
  {
   "cell_type": "code",
   "execution_count": null,
   "id": "5c01b020-95e8-49f2-90b7-85c304203e55",
   "metadata": {},
   "outputs": [],
   "source": []
  },
  {
   "cell_type": "code",
   "execution_count": null,
   "id": "674539ba-ff51-4199-b641-8aab745fe3af",
   "metadata": {},
   "outputs": [],
   "source": []
  },
  {
   "cell_type": "code",
   "execution_count": null,
   "id": "7ce92c84-c3f5-4bf2-95ad-6bcf56ce9e7a",
   "metadata": {},
   "outputs": [],
   "source": []
  },
  {
   "cell_type": "code",
   "execution_count": null,
   "id": "bfc23bcc-1ff4-48d5-88ce-df07564e1513",
   "metadata": {},
   "outputs": [],
   "source": []
  },
  {
   "cell_type": "code",
   "execution_count": null,
   "id": "bd03ab1c-6fa2-453a-9b3f-e1663f122da8",
   "metadata": {},
   "outputs": [],
   "source": []
  },
  {
   "cell_type": "code",
   "execution_count": null,
   "id": "a0132d30-b0a7-4892-b4b5-c7a7208ac878",
   "metadata": {},
   "outputs": [],
   "source": []
  },
  {
   "cell_type": "code",
   "execution_count": null,
   "id": "f41ff4ef-71fe-4815-8f28-193dda1d34f3",
   "metadata": {},
   "outputs": [],
   "source": []
  },
  {
   "cell_type": "code",
   "execution_count": null,
   "id": "96ef35a6-dc6f-40de-99b7-cd0af5b794ac",
   "metadata": {},
   "outputs": [],
   "source": []
  },
  {
   "cell_type": "code",
   "execution_count": null,
   "id": "908e1d93-5e7d-44f1-99fc-4954ca32ddee",
   "metadata": {},
   "outputs": [],
   "source": []
  },
  {
   "cell_type": "code",
   "execution_count": null,
   "id": "54c9428c-fb73-4ad5-80a0-46d8029b22dd",
   "metadata": {},
   "outputs": [],
   "source": []
  },
  {
   "cell_type": "code",
   "execution_count": null,
   "id": "52401e5e-f022-4c3e-aa78-08c0f0f2e693",
   "metadata": {},
   "outputs": [],
   "source": []
  },
  {
   "cell_type": "code",
   "execution_count": null,
   "id": "235a8e8c-f2d6-48b0-832a-bfd2331a186a",
   "metadata": {},
   "outputs": [],
   "source": []
  },
  {
   "cell_type": "code",
   "execution_count": null,
   "id": "a77a5fc3-40ba-429b-8f10-19b03b6dcf00",
   "metadata": {},
   "outputs": [],
   "source": []
  },
  {
   "cell_type": "code",
   "execution_count": null,
   "id": "af6b6b2b-92b8-448a-9083-4cb983c8b809",
   "metadata": {},
   "outputs": [],
   "source": []
  },
  {
   "cell_type": "code",
   "execution_count": null,
   "id": "c762853f-9e15-4688-a5e3-31fea77063bb",
   "metadata": {},
   "outputs": [],
   "source": []
  },
  {
   "cell_type": "code",
   "execution_count": null,
   "id": "8a3006c3-4a7d-4c81-84b4-a57de846dc3b",
   "metadata": {},
   "outputs": [],
   "source": []
  },
  {
   "cell_type": "code",
   "execution_count": null,
   "id": "8d88fcca-954b-4cfe-acdd-d13919649582",
   "metadata": {},
   "outputs": [],
   "source": []
  },
  {
   "cell_type": "code",
   "execution_count": null,
   "id": "9586f777-97d0-4ca9-8cb4-4dfb72ab01a3",
   "metadata": {},
   "outputs": [],
   "source": []
  },
  {
   "cell_type": "code",
   "execution_count": null,
   "id": "da042b48-caed-44f2-9b62-dace5ed0d64c",
   "metadata": {},
   "outputs": [],
   "source": []
  },
  {
   "cell_type": "code",
   "execution_count": null,
   "id": "de48e4ae-0def-4b16-b51e-2b9a9a3b8fc1",
   "metadata": {},
   "outputs": [],
   "source": []
  },
  {
   "cell_type": "code",
   "execution_count": null,
   "id": "30b69cf3-5654-469d-bfe5-33a0979cc8f2",
   "metadata": {},
   "outputs": [],
   "source": []
  },
  {
   "cell_type": "code",
   "execution_count": null,
   "id": "6d2e5a31-7b1a-416f-97de-b00bcad5ca4c",
   "metadata": {},
   "outputs": [],
   "source": []
  },
  {
   "cell_type": "code",
   "execution_count": null,
   "id": "6772a857-67d7-4a4a-9cf4-98511b497b0f",
   "metadata": {},
   "outputs": [],
   "source": []
  },
  {
   "cell_type": "code",
   "execution_count": null,
   "id": "3ea6173d-0850-4167-8256-b61de4422eff",
   "metadata": {},
   "outputs": [],
   "source": []
  },
  {
   "cell_type": "code",
   "execution_count": null,
   "id": "5e8bfe2b-180a-4c47-80bc-41c79541b32c",
   "metadata": {},
   "outputs": [],
   "source": []
  },
  {
   "cell_type": "code",
   "execution_count": null,
   "id": "5dd3fc25-2d76-4bda-baac-687c672e0399",
   "metadata": {},
   "outputs": [],
   "source": []
  },
  {
   "cell_type": "code",
   "execution_count": null,
   "id": "eb829c1e-4665-4aed-9dd8-2816ea257de1",
   "metadata": {},
   "outputs": [],
   "source": []
  },
  {
   "cell_type": "code",
   "execution_count": null,
   "id": "eb5af3c4-bdfb-4c39-81b3-11e7ca1c4ce6",
   "metadata": {},
   "outputs": [],
   "source": []
  },
  {
   "cell_type": "code",
   "execution_count": null,
   "id": "83bb5fa5-4d5d-45f4-a233-c29e9025612c",
   "metadata": {},
   "outputs": [],
   "source": []
  },
  {
   "cell_type": "code",
   "execution_count": null,
   "id": "adbb3685-6b6d-4d04-9113-111d944604fb",
   "metadata": {},
   "outputs": [],
   "source": []
  },
  {
   "cell_type": "code",
   "execution_count": null,
   "id": "ca4580bf-4344-42af-9244-eaf8a520bf68",
   "metadata": {},
   "outputs": [],
   "source": []
  },
  {
   "cell_type": "code",
   "execution_count": null,
   "id": "16068c63-2930-4c27-902f-b3294755a967",
   "metadata": {},
   "outputs": [],
   "source": []
  },
  {
   "cell_type": "code",
   "execution_count": null,
   "id": "ecb24d6f-9717-48ba-b1fb-f480a0e0e2a0",
   "metadata": {},
   "outputs": [],
   "source": []
  },
  {
   "cell_type": "code",
   "execution_count": null,
   "id": "588ed9d2-2f80-4003-8e1b-9f02f17568b9",
   "metadata": {},
   "outputs": [],
   "source": []
  },
  {
   "cell_type": "code",
   "execution_count": null,
   "id": "05162782-e9d5-4b4c-9839-eb6e72ed6cac",
   "metadata": {},
   "outputs": [],
   "source": []
  },
  {
   "cell_type": "code",
   "execution_count": null,
   "id": "12079825-8da8-410b-bf6b-3509e2c6e7cf",
   "metadata": {},
   "outputs": [],
   "source": []
  },
  {
   "cell_type": "code",
   "execution_count": null,
   "id": "302d784f-5d99-4bc1-bc78-ad1ffae65e03",
   "metadata": {},
   "outputs": [],
   "source": []
  },
  {
   "cell_type": "code",
   "execution_count": null,
   "id": "20a7d3d8-c126-4837-81ca-3fdc0d67b3dd",
   "metadata": {},
   "outputs": [],
   "source": []
  },
  {
   "cell_type": "code",
   "execution_count": null,
   "id": "0ac1644a-3370-41a8-8550-9ee4f49df540",
   "metadata": {},
   "outputs": [],
   "source": []
  },
  {
   "cell_type": "code",
   "execution_count": null,
   "id": "89618601-1868-4494-8ce5-f7b69a0932f9",
   "metadata": {},
   "outputs": [],
   "source": []
  },
  {
   "cell_type": "code",
   "execution_count": null,
   "id": "9f6d00a7-39b6-425c-a65c-cb0ddba3a3e8",
   "metadata": {},
   "outputs": [],
   "source": []
  },
  {
   "cell_type": "code",
   "execution_count": null,
   "id": "18d81d87-e430-4b46-a79e-3ad4b475534b",
   "metadata": {},
   "outputs": [],
   "source": []
  },
  {
   "cell_type": "code",
   "execution_count": null,
   "id": "24caa8ad-5918-461a-a797-3ccbc3f6039f",
   "metadata": {},
   "outputs": [],
   "source": []
  },
  {
   "cell_type": "code",
   "execution_count": null,
   "id": "cad70305-9176-4f05-a752-c158c6e49362",
   "metadata": {},
   "outputs": [],
   "source": []
  },
  {
   "cell_type": "code",
   "execution_count": null,
   "id": "9ceaf97a-593f-4634-a3c6-046027515e69",
   "metadata": {},
   "outputs": [],
   "source": []
  },
  {
   "cell_type": "code",
   "execution_count": null,
   "id": "dad2a865-cdba-4e7c-af04-f2044555600b",
   "metadata": {},
   "outputs": [],
   "source": []
  },
  {
   "cell_type": "code",
   "execution_count": null,
   "id": "e2086ee2-c499-47a3-a7a6-19abe9bdd20b",
   "metadata": {},
   "outputs": [],
   "source": []
  },
  {
   "cell_type": "code",
   "execution_count": null,
   "id": "0c7d0eac-063c-4cc6-968d-ec57f954fc19",
   "metadata": {},
   "outputs": [],
   "source": []
  },
  {
   "cell_type": "code",
   "execution_count": null,
   "id": "433ca616-e9ea-4718-a37d-2dcd97493f6d",
   "metadata": {},
   "outputs": [],
   "source": []
  },
  {
   "cell_type": "code",
   "execution_count": null,
   "id": "6f1471fb-a6de-4404-87bb-7f6178373fa8",
   "metadata": {},
   "outputs": [],
   "source": []
  },
  {
   "cell_type": "code",
   "execution_count": null,
   "id": "cdfef571-6efc-4950-9e4a-37a41e45e343",
   "metadata": {},
   "outputs": [],
   "source": [
    "\n",
    "\n",
    "\n"
   ]
  },
  {
   "cell_type": "code",
   "execution_count": null,
   "id": "ad1793d4-1c2d-4cba-a02b-9b9a9b7af82d",
   "metadata": {},
   "outputs": [],
   "source": []
  },
  {
   "cell_type": "code",
   "execution_count": null,
   "id": "58974c8b-f846-4f44-b90a-c9e58e2d72cf",
   "metadata": {},
   "outputs": [],
   "source": []
  },
  {
   "cell_type": "code",
   "execution_count": null,
   "id": "9d72fc97-7e21-45e7-a323-1498c4512c2f",
   "metadata": {},
   "outputs": [],
   "source": []
  },
  {
   "cell_type": "code",
   "execution_count": null,
   "id": "76ad3b05-2183-48bb-8cea-4d3c541d4a7b",
   "metadata": {},
   "outputs": [],
   "source": []
  },
  {
   "cell_type": "code",
   "execution_count": null,
   "id": "ee8cbf82-22e5-41e8-b735-ab4809839f5b",
   "metadata": {},
   "outputs": [],
   "source": []
  },
  {
   "cell_type": "code",
   "execution_count": null,
   "id": "d539c66f-63e1-4274-9ab0-96f60dc93e24",
   "metadata": {},
   "outputs": [],
   "source": []
  },
  {
   "cell_type": "code",
   "execution_count": null,
   "id": "cd570c04-936d-4fef-8b6d-35c910ccb85c",
   "metadata": {},
   "outputs": [],
   "source": []
  },
  {
   "cell_type": "code",
   "execution_count": null,
   "id": "db6336f3-fbd3-4349-9787-8f3e2ca217e5",
   "metadata": {},
   "outputs": [],
   "source": []
  },
  {
   "cell_type": "code",
   "execution_count": null,
   "id": "2f202dc1-e91d-45f3-b01d-e25981b2d2ef",
   "metadata": {},
   "outputs": [],
   "source": []
  }
 ],
 "metadata": {
  "kernelspec": {
   "display_name": "Python 3 (ipykernel)",
   "language": "python",
   "name": "python3"
  },
  "language_info": {
   "codemirror_mode": {
    "name": "ipython",
    "version": 3
   },
   "file_extension": ".py",
   "mimetype": "text/x-python",
   "name": "python",
   "nbconvert_exporter": "python",
   "pygments_lexer": "ipython3",
   "version": "3.12.2"
  }
 },
 "nbformat": 4,
 "nbformat_minor": 5
}
