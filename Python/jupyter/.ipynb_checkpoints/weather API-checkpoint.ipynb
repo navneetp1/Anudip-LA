{
 "cells": [
  {
   "cell_type": "code",
   "execution_count": 10,
   "id": "78310dfa-0722-47d7-8f66-ec7a2e558c1e",
   "metadata": {},
   "outputs": [
    {
     "name": "stdout",
     "output_type": "stream",
     "text": [
      "{'cod': 401, 'message': 'Invalid API key. Please see https://openweathermap.org/faq#error401 for more info.'}\n"
     ]
    }
   ],
   "source": [
    "import datetime as dt\n",
    "import requests\n",
    "\n",
    "# BASE_URL=\"http://api.openweathermap.org/data/2.5/forecast?id=524901&\"\n",
    "# BASE_URL=\"http://api.openweathermap.org/data/2.5/weather?\"\n",
    "# BASE_URL=\"https://api.open-meteo.com/v1/forecast?latitude=28.6519&longitude=77.2315&current=temperature_2m&forecast_days=1\"\n",
    "BASE_URL=\"http://api.openweathermap.org/data/2.5/forecast?id=524901&\"\n",
    "\n",
    "API_KEY = open(\"api.txt\", \"r\").read()\n",
    "# CITY=\"Delhi\"\n",
    "\n",
    "url = BASE_URL + \"appid=\"+ API_KEY\n",
    "# url = BASE_URL\n",
    "\n",
    "response = requests.get(url).json()\n",
    "\n",
    "print(response)\n"
   ]
  },
  {
   "cell_type": "markdown",
   "id": "3736d24d-6556-4561-8728-54aa927d5be9",
   "metadata": {},
   "source": [
    "# using open meteo "
   ]
  },
  {
   "cell_type": "code",
   "execution_count": null,
   "id": "94653f38-81c1-4bce-9599-6dac3eae4863",
   "metadata": {},
   "outputs": [],
   "source": []
  },
  {
   "cell_type": "code",
   "execution_count": null,
   "id": "0abab30f-6e89-4330-8efc-015dc512e372",
   "metadata": {},
   "outputs": [],
   "source": []
  },
  {
   "cell_type": "code",
   "execution_count": null,
   "id": "c1f3c030-6090-4438-bb1c-5d2baed3c310",
   "metadata": {},
   "outputs": [],
   "source": []
  },
  {
   "cell_type": "code",
   "execution_count": null,
   "id": "cec0f903-284c-4bf3-a8ad-1fbf903ec750",
   "metadata": {},
   "outputs": [],
   "source": []
  },
  {
   "cell_type": "code",
   "execution_count": null,
   "id": "f446a795-600b-4759-b146-01231c17a0a6",
   "metadata": {},
   "outputs": [],
   "source": []
  },
  {
   "cell_type": "code",
   "execution_count": null,
   "id": "37000a01-708d-426a-b769-1323baf3f170",
   "metadata": {},
   "outputs": [],
   "source": []
  },
  {
   "cell_type": "code",
   "execution_count": null,
   "id": "6254b35f-93b4-4de5-baeb-4f09069aecee",
   "metadata": {},
   "outputs": [],
   "source": []
  },
  {
   "cell_type": "code",
   "execution_count": null,
   "id": "7acfb42d-caaa-4f51-86d8-66008e970c8b",
   "metadata": {},
   "outputs": [],
   "source": []
  },
  {
   "cell_type": "code",
   "execution_count": null,
   "id": "1a9e4c3e-b93a-43b2-a2c9-9d40cb1a8800",
   "metadata": {},
   "outputs": [],
   "source": []
  },
  {
   "cell_type": "code",
   "execution_count": null,
   "id": "62fcf118-9e71-4038-b658-4cfc06b927ac",
   "metadata": {},
   "outputs": [],
   "source": []
  }
 ],
 "metadata": {
  "kernelspec": {
   "display_name": "Python 3 (ipykernel)",
   "language": "python",
   "name": "python3"
  },
  "language_info": {
   "codemirror_mode": {
    "name": "ipython",
    "version": 3
   },
   "file_extension": ".py",
   "mimetype": "text/x-python",
   "name": "python",
   "nbconvert_exporter": "python",
   "pygments_lexer": "ipython3",
   "version": "3.12.2"
  }
 },
 "nbformat": 4,
 "nbformat_minor": 5
}
