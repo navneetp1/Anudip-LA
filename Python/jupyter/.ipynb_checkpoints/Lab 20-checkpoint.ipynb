{
 "cells": [
  {
   "cell_type": "code",
   "execution_count": 3,
   "id": "1df0512f-e92b-4899-b411-8670475aec32",
   "metadata": {},
   "outputs": [
    {
     "name": "stdout",
     "output_type": "stream",
     "text": [
      "Revenue in category 1:  [500 600 700 550]\n",
      "Revenue in category 2:  [450 700 800 600]\n",
      "\n",
      "Total Revenue: \n",
      " [ 950 1300 1500 1150]\n"
     ]
    }
   ],
   "source": [
    "import numpy as np\n",
    "\n",
    "category1_revenue = np.array([500, 600, 700, 550])\n",
    "category2_revenue = np.array([450, 700, 800, 600])\n",
    "\n",
    "print(\"Revenue in category 1: \",category1_revenue)\n",
    "print(\"Revenue in category 2: \",category2_revenue)\n",
    "\n",
    "total_revenue = category1_revenue + category2_revenue\n",
    "print(\"\\nTotal Revenue: \\n\", total_revenue) "
   ]
  },
  {
   "cell_type": "code",
   "execution_count": 6,
   "id": "df2cac1c-2916-4bc9-a103-fd4091f3e793",
   "metadata": {},
   "outputs": [
    {
     "name": "stdout",
     "output_type": "stream",
     "text": [
      "Calculated Revenue:  [10000 12000 11000 10500]\n",
      "Total Expenses:  [4000 5000 4500 4800]\n",
      "\n",
      "Profit Earned: \n",
      " [6000 7000 6500 5700]\n"
     ]
    }
   ],
   "source": [
    "import numpy as np\n",
    "\n",
    "revenue = np.array([10000, 12000, 11000, 10500]) \n",
    "expenses = np.array([4000, 5000, 4500, 4800])\n",
    "\n",
    "print(\"Calculated Revenue: \", revenue)\n",
    "print(\"Total Expenses: \", expenses)\n",
    "\n",
    "profit = revenue - expenses\n",
    "\n",
    "print(\"\\nProfit Earned: \\n\", profit)"
   ]
  },
  {
   "cell_type": "code",
   "execution_count": 17,
   "id": "e5ceed0e-9f8c-444c-9f22-24852853e3af",
   "metadata": {},
   "outputs": [
    {
     "name": "stdout",
     "output_type": "stream",
     "text": [
      "Given Inventory: \n",
      " [10  0  5  0 20  0]\n",
      "\n",
      "Product 2 out of stock..\n",
      "Product 4 out of stock..\n",
      "Product 6 out of stock..\n",
      "\n",
      "Final Out of stock inventory:\n",
      " [0 0 0]\n"
     ]
    }
   ],
   "source": [
    "import numpy as np\n",
    "\n",
    "inventory = np.array([10, 0, 5, 0, 20, 0]) \n",
    "print(\"Given Inventory: \\n\", inventory)\n",
    "print()\n",
    "\n",
    "ind_no_stock = np.where(inventory == 0)\n",
    "no_stock = inventory[ind_no_stock]\n",
    "\n",
    "for i in ind_no_stock[0]:\n",
    "    print(f\"Product {i+1} out of stock..\")\n",
    "\n",
    "print(\"\\nFinal Out of stock inventory:\\n\", no_stock)"
   ]
  },
  {
   "cell_type": "code",
   "execution_count": 22,
   "id": "38f39707-ad62-49ad-94f3-7d2ae2831b9f",
   "metadata": {},
   "outputs": [
    {
     "name": "stdout",
     "output_type": "stream",
     "text": [
      "Quantities:  [2 3 4 1]\n",
      "Price / item:  [10.  5.  8. 12.]\n",
      "[20. 15. 32. 12.]\n",
      "Item 1\n",
      "Total price: Rs. 20.0\n",
      "\n",
      "Item 2\n",
      "Total price: Rs. 15.0\n",
      "\n",
      "Item 3\n",
      "Total price: Rs. 32.0\n",
      "\n",
      "Item 4\n",
      "Total price: Rs. 12.0\n",
      "\n"
     ]
    }
   ],
   "source": [
    "import numpy as np\n",
    "\n",
    "quantity = np.array([2, 3, 4, 1])\n",
    "price_per_item = np.array([10.0, 5.0, 8.0, 12.0]) \n",
    "\n",
    "print(\"Quantities: \",quantity)\n",
    "print(\"Price / item: \",price_per_item)\n",
    "\n",
    "total = np.multiply(quantity,price_per_item)\n",
    "\n",
    "for i,tot in enumerate(total):\n",
    "    print(f\"Item {i+1}\")\n",
    "    print(f\"Total price: Rs. {tot}\\n\")\n",
    "\n",
    "\n"
   ]
  },
  {
   "cell_type": "code",
   "execution_count": null,
   "id": "d4244da5-530d-49e9-8f63-c55cb4509b2b",
   "metadata": {},
   "outputs": [],
   "source": []
  },
  {
   "cell_type": "code",
   "execution_count": null,
   "id": "bef8a9b6-9faa-4078-8a85-e4234b911ae3",
   "metadata": {},
   "outputs": [],
   "source": []
  },
  {
   "cell_type": "code",
   "execution_count": null,
   "id": "2959cef1-fb68-42d4-86fe-87407c718308",
   "metadata": {},
   "outputs": [],
   "source": []
  },
  {
   "cell_type": "code",
   "execution_count": null,
   "id": "c510cb61-e73d-4438-8fc3-0bcbd183f587",
   "metadata": {},
   "outputs": [],
   "source": []
  },
  {
   "cell_type": "code",
   "execution_count": null,
   "id": "4b82ebab-b848-4221-bf90-42558c03cea9",
   "metadata": {},
   "outputs": [],
   "source": []
  },
  {
   "cell_type": "code",
   "execution_count": null,
   "id": "31b62cde-2fe3-4484-96cb-4b27c49d9021",
   "metadata": {},
   "outputs": [],
   "source": []
  },
  {
   "cell_type": "code",
   "execution_count": null,
   "id": "9550974d-45c7-4377-8153-bec14e81d0c3",
   "metadata": {},
   "outputs": [],
   "source": []
  },
  {
   "cell_type": "code",
   "execution_count": null,
   "id": "be700efe-8124-44a7-89ec-c0ea0dd465f5",
   "metadata": {},
   "outputs": [],
   "source": []
  },
  {
   "cell_type": "code",
   "execution_count": null,
   "id": "4eb503da-1999-4bd2-b952-8c92e915fb23",
   "metadata": {},
   "outputs": [],
   "source": []
  },
  {
   "cell_type": "code",
   "execution_count": null,
   "id": "9657e04d-eb52-4c8d-9ee9-20c884d5f4f5",
   "metadata": {},
   "outputs": [],
   "source": []
  },
  {
   "cell_type": "code",
   "execution_count": null,
   "id": "bb095bd9-35e1-4b33-a9ec-200c9f4bbd50",
   "metadata": {},
   "outputs": [],
   "source": []
  },
  {
   "cell_type": "code",
   "execution_count": null,
   "id": "9d6fcff5-722c-4345-886e-92193f45ed76",
   "metadata": {},
   "outputs": [],
   "source": []
  },
  {
   "cell_type": "code",
   "execution_count": null,
   "id": "0f3ff17b-1e81-45f9-88e9-6cf6e4afb702",
   "metadata": {},
   "outputs": [],
   "source": []
  },
  {
   "cell_type": "code",
   "execution_count": null,
   "id": "db1021b9-9397-444a-a7fb-02d43792754d",
   "metadata": {},
   "outputs": [],
   "source": []
  },
  {
   "cell_type": "code",
   "execution_count": null,
   "id": "6e8b3cca-5d5a-41b0-86b4-1d1673d9aca0",
   "metadata": {},
   "outputs": [],
   "source": []
  },
  {
   "cell_type": "code",
   "execution_count": null,
   "id": "1a1d60ed-ee9c-461c-8e02-4bed7718f8e0",
   "metadata": {},
   "outputs": [],
   "source": []
  },
  {
   "cell_type": "code",
   "execution_count": null,
   "id": "da4edcc5-1d57-4264-b847-bec3364e3a1b",
   "metadata": {},
   "outputs": [],
   "source": []
  },
  {
   "cell_type": "code",
   "execution_count": null,
   "id": "d9fa2382-d647-44e5-88ca-55b17a5065ff",
   "metadata": {},
   "outputs": [],
   "source": []
  },
  {
   "cell_type": "code",
   "execution_count": null,
   "id": "02888541-22dd-452e-9349-94a194302a81",
   "metadata": {},
   "outputs": [],
   "source": []
  }
 ],
 "metadata": {
  "kernelspec": {
   "display_name": "Python 3 (ipykernel)",
   "language": "python",
   "name": "python3"
  },
  "language_info": {
   "codemirror_mode": {
    "name": "ipython",
    "version": 3
   },
   "file_extension": ".py",
   "mimetype": "text/x-python",
   "name": "python",
   "nbconvert_exporter": "python",
   "pygments_lexer": "ipython3",
   "version": "3.12.2"
  }
 },
 "nbformat": 4,
 "nbformat_minor": 5
}
