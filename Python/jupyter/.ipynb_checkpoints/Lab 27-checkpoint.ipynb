{
 "cells": [
  {
   "cell_type": "code",
   "execution_count": 7,
   "id": "bd9a894e-008a-4b4d-90c7-aaf9ceb95978",
   "metadata": {},
   "outputs": [
    {
     "name": "stdout",
     "output_type": "stream",
     "text": [
      "Total Sales amount Region,Manager and Salesman-wise\n",
      "                           Sale_amt\n",
      "Region  Manager SalesMan           \n",
      "Central Douglas John       124016.0\n",
      "        Hermann Luis       206373.0\n",
      "                Shelli      33698.0\n",
      "                Sigal      125037.5\n",
      "        Marth   Steven      14000.0\n",
      "        Martha  Steven     185690.0\n",
      "        Timothy David      140955.0\n",
      "East    Douglas Karen       48204.0\n",
      "        Martha  Alexander  236703.0\n",
      "                Diana       36100.0\n",
      "West    Douglas Michael     66836.0\n",
      "        Timothy Stephen     88063.0\n"
     ]
    },
    {
     "name": "stderr",
     "output_type": "stream",
     "text": [
      "C:\\Users\\navne\\AppData\\Local\\Temp\\ipykernel_8000\\203878980.py:18: FutureWarning: The provided callable <function sum at 0x00000184EE0539C0> is currently using DataFrameGroupBy.sum. In a future version of pandas, the provided callable will be used directly. To keep current behavior pass the string \"sum\" instead.\n",
      "  df4 = pd.pivot_table(df, index=[\"Region\", \"Manager\", \"SalesMan\"], values=[\"Sale_amt\"], aggfunc=np.sum)\n"
     ]
    }
   ],
   "source": [
    "import pandas as pd\n",
    "import numpy as np\n",
    "df = pd.read_csv(\"salesdatanew.csv\")\n",
    "\n",
    "# print(\"Total units Item-wise\\n\")\n",
    "# df1 = pd.pivot_table(df, index=[\"Item\"], values=[\"Units\"], aggfunc=np.sum)\n",
    "# print(df1)\n",
    "\n",
    "# print(\"Total Sales amount Region and Item-wise\")\n",
    "# df2 = pd.pivot_table(df, index=[\"Region\", \"Item\"], values=[\"Sale_amt\"], aggfunc=np.sum)\n",
    "# print(df2)\n",
    "\n",
    "# print(\"Average Sales amount Manager-wise\")\n",
    "# df3 = pd.pivot_table(df, index=[\"Manager\"], values=[\"Sale_amt\"], aggfunc=np.mean).round(2)\n",
    "# print(df3)\n",
    "\n",
    "print(\"Total Sales amount Region,Manager and Salesman-wise\")\n",
    "df4 = pd.pivot_table(df, index=[\"Region\", \"Manager\", \"SalesMan\"], values=[\"Sale_amt\"], aggfunc=np.sum)\n",
    "print(df4)\n",
    "\n",
    "# df4"
   ]
  },
  {
   "cell_type": "code",
   "execution_count": null,
   "id": "5326b8de-5ab7-410d-a1ee-922cd2005692",
   "metadata": {},
   "outputs": [],
   "source": []
  },
  {
   "cell_type": "code",
   "execution_count": null,
   "id": "a8dedc55-745b-4723-99fb-a1ccc7a3b7eb",
   "metadata": {},
   "outputs": [],
   "source": []
  },
  {
   "cell_type": "code",
   "execution_count": null,
   "id": "dadaef0b-dd56-4eef-b3b8-59575e93390d",
   "metadata": {},
   "outputs": [],
   "source": []
  },
  {
   "cell_type": "code",
   "execution_count": null,
   "id": "eb91c1d3-cd48-4918-832a-e6f596908375",
   "metadata": {},
   "outputs": [],
   "source": []
  },
  {
   "cell_type": "code",
   "execution_count": null,
   "id": "fe2d771b-3468-46ab-82c8-35bb222fb1c3",
   "metadata": {},
   "outputs": [],
   "source": []
  },
  {
   "cell_type": "code",
   "execution_count": null,
   "id": "b7048999-ca49-412a-8c23-bcdd97b73c65",
   "metadata": {},
   "outputs": [],
   "source": []
  },
  {
   "cell_type": "code",
   "execution_count": null,
   "id": "9df3417a-c044-4ab7-ba2b-ffc0fcc30bbb",
   "metadata": {},
   "outputs": [],
   "source": []
  },
  {
   "cell_type": "code",
   "execution_count": null,
   "id": "f77212e4-ee1d-4e12-83ab-57c3c46fc8fc",
   "metadata": {},
   "outputs": [],
   "source": []
  },
  {
   "cell_type": "code",
   "execution_count": null,
   "id": "71cb40bf-fd92-4ff0-b038-75c594bde71a",
   "metadata": {},
   "outputs": [],
   "source": []
  },
  {
   "cell_type": "code",
   "execution_count": null,
   "id": "71a2f0fa-eb7e-476f-8a70-34f92e340c1f",
   "metadata": {},
   "outputs": [],
   "source": []
  },
  {
   "cell_type": "code",
   "execution_count": null,
   "id": "027f66a4-1e8c-4f52-94ab-45f6ceb3a893",
   "metadata": {},
   "outputs": [],
   "source": []
  },
  {
   "cell_type": "code",
   "execution_count": null,
   "id": "1ccd0e22-d291-4ab3-832a-0b36bbe4b817",
   "metadata": {},
   "outputs": [],
   "source": []
  },
  {
   "cell_type": "code",
   "execution_count": null,
   "id": "044ea3b8-21ef-4196-8c99-c753cc155fb1",
   "metadata": {},
   "outputs": [],
   "source": []
  },
  {
   "cell_type": "code",
   "execution_count": null,
   "id": "e7847950-16f8-41b3-a0ce-574418ba2aa4",
   "metadata": {},
   "outputs": [],
   "source": []
  },
  {
   "cell_type": "code",
   "execution_count": null,
   "id": "d07d964e-9931-4a51-9cd1-0e211e6a33e7",
   "metadata": {},
   "outputs": [],
   "source": []
  },
  {
   "cell_type": "code",
   "execution_count": null,
   "id": "b4c1e7d5-96d9-4c2a-ba98-98acb5349b5a",
   "metadata": {},
   "outputs": [],
   "source": []
  },
  {
   "cell_type": "code",
   "execution_count": null,
   "id": "ff8e8b22-8129-43ac-affe-f8545d72c99d",
   "metadata": {},
   "outputs": [],
   "source": []
  },
  {
   "cell_type": "code",
   "execution_count": 5,
   "id": "808d97cf-03b7-47b1-a4e9-1a70be4de698",
   "metadata": {},
   "outputs": [
    {
     "name": "stdout",
     "output_type": "stream",
     "text": [
      "1.26.4\n",
      "2.2.1\n"
     ]
    }
   ],
   "source": [
    "print(np.__version__)\n",
    "print(pd.__version__)"
   ]
  },
  {
   "cell_type": "code",
   "execution_count": null,
   "id": "0223df96-cb5b-4254-9d5c-984782bd0c19",
   "metadata": {},
   "outputs": [],
   "source": []
  },
  {
   "cell_type": "code",
   "execution_count": null,
   "id": "b7178586-6d74-43f3-bb90-d519d66a6e0f",
   "metadata": {},
   "outputs": [],
   "source": []
  },
  {
   "cell_type": "code",
   "execution_count": null,
   "id": "d4c697cf-6fcb-499a-9293-991a81ef4034",
   "metadata": {},
   "outputs": [],
   "source": []
  },
  {
   "cell_type": "code",
   "execution_count": null,
   "id": "4c48bef1-35f9-4ada-864e-31d54514afab",
   "metadata": {},
   "outputs": [],
   "source": []
  }
 ],
 "metadata": {
  "kernelspec": {
   "display_name": "Python 3 (ipykernel)",
   "language": "python",
   "name": "python3"
  },
  "language_info": {
   "codemirror_mode": {
    "name": "ipython",
    "version": 3
   },
   "file_extension": ".py",
   "mimetype": "text/x-python",
   "name": "python",
   "nbconvert_exporter": "python",
   "pygments_lexer": "ipython3",
   "version": "3.12.2"
  }
 },
 "nbformat": 4,
 "nbformat_minor": 5
}
