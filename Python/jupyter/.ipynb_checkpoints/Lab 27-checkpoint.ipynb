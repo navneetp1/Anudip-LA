{
 "cells": [
  {
   "cell_type": "code",
   "execution_count": 7,
   "id": "bd9a894e-008a-4b4d-90c7-aaf9ceb95978",
   "metadata": {},
   "outputs": [
    {
     "name": "stdout",
     "output_type": "stream",
     "text": [
      "Total Sales amount Region,Manager and Salesman-wise\n",
      "                           Sale_amt\n",
      "Region  Manager SalesMan           \n",
      "Central Douglas John       124016.0\n",
      "        Hermann Luis       206373.0\n",
      "                Shelli      33698.0\n",
      "                Sigal      125037.5\n",
      "        Marth   Steven      14000.0\n",
      "        Martha  Steven     185690.0\n",
      "        Timothy David      140955.0\n",
      "East    Douglas Karen       48204.0\n",
      "        Martha  Alexander  236703.0\n",
      "                Diana       36100.0\n",
      "West    Douglas Michael     66836.0\n",
      "        Timothy Stephen     88063.0\n"
     ]
    },
    {
     "name": "stderr",
     "output_type": "stream",
     "text": [
      "C:\\Users\\navne\\AppData\\Local\\Temp\\ipykernel_8000\\203878980.py:18: FutureWarning: The provided callable <function sum at 0x00000184EE0539C0> is currently using DataFrameGroupBy.sum. In a future version of pandas, the provided callable will be used directly. To keep current behavior pass the string \"sum\" instead.\n",
      "  df4 = pd.pivot_table(df, index=[\"Region\", \"Manager\", \"SalesMan\"], values=[\"Sale_amt\"], aggfunc=np.sum)\n"
     ]
    }
   ],
   "source": [
    "import pandas as pd\n",
    "import numpy as np\n",
    "df = pd.read_csv(\"salesdatanew.csv\")\n",
    "\n",
    "# print(\"Total units Item-wise\\n\")\n",
    "# df1 = pd.pivot_table(df, index=[\"Item\"], values=[\"Units\"], aggfunc=np.sum)\n",
    "# print(df1)\n",
    "\n",
    "# print(\"Total Sales amount Region and Item-wise\")\n",
    "# df2 = pd.pivot_table(df, index=[\"Region\", \"Item\"], values=[\"Sale_amt\"], aggfunc=np.sum)\n",
    "# print(df2)\n",
    "\n",
    "# print(\"Average Sales amount Manager-wise\")\n",
    "# df3 = pd.pivot_table(df, index=[\"Manager\"], values=[\"Sale_amt\"], aggfunc=np.mean).round(2)\n",
    "# print(df3)\n",
    "\n",
    "print(\"Total Sales amount Region,Manager and Salesman-wise\")\n",
    "df4 = pd.pivot_table(df, index=[\"Region\", \"Manager\", \"SalesMan\"], values=[\"Sale_amt\"], aggfunc=np.sum)\n",
    "print(df4)\n",
    "\n",
    "# df4"
   ]
  },
  {
   "cell_type": "code",
   "execution_count": 5,
   "id": "808d97cf-03b7-47b1-a4e9-1a70be4de698",
   "metadata": {},
   "outputs": [
    {
     "name": "stdout",
     "output_type": "stream",
     "text": [
      "1.26.4\n",
      "2.2.1\n"
     ]
    }
   ],
   "source": [
    "print(np.__version__)\n",
    "print(pd.__version__)"
   ]
  }
 ],
 "metadata": {
  "kernelspec": {
   "display_name": "Python 3 (ipykernel)",
   "language": "python",
   "name": "python3"
  },
  "language_info": {
   "codemirror_mode": {
    "name": "ipython",
    "version": 3
   },
   "file_extension": ".py",
   "mimetype": "text/x-python",
   "name": "python",
   "nbconvert_exporter": "python",
   "pygments_lexer": "ipython3",
   "version": "3.12.2"
  }
 },
 "nbformat": 4,
 "nbformat_minor": 5
}
