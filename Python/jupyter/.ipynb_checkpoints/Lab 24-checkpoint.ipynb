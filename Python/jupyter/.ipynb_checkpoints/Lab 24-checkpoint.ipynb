{
 "cells": [
  {
   "cell_type": "code",
   "execution_count": 10,
   "id": "ff776a28-ecbc-41ef-8816-8a69c1f37fa4",
   "metadata": {},
   "outputs": [
    {
     "name": "stdout",
     "output_type": "stream",
     "text": [
      "Series with indexing:\n",
      "[10, 20, 30, 40, 50]\n",
      "\n",
      "Series without indexing:\n",
      "10\n",
      "20\n",
      "30\n",
      "40\n",
      "50\n"
     ]
    }
   ],
   "source": [
    "import pandas as pd\n",
    "\n",
    "data = [10,20,30,40,50] \n",
    "series = pd.Series(data)\n",
    "\n",
    "print(\"Series with indexing:\")\n",
    "print(data)\n",
    "\n",
    "unindexed = series.to_string(index=False)\n",
    "print(\"\\nSeries without indexing:\")\n",
    "print(unindexed)"
   ]
  },
  {
   "cell_type": "code",
   "execution_count": 9,
   "id": "f9eb9319-b109-4429-8769-f1c8e1dbab60",
   "metadata": {},
   "outputs": [
    {
     "name": "stdout",
     "output_type": "stream",
     "text": [
      "           Sales\n",
      "January    12000\n",
      "February   13500\n",
      "March      14200\n",
      "April      12800\n",
      "May        14000\n",
      "June       15500\n",
      "July       16200\n",
      "August     15800\n",
      "September  16500\n",
      "October    17800\n",
      "November   18500\n",
      "December   17200\n"
     ]
    }
   ],
   "source": [
    "import pandas as pd\n",
    "\n",
    "months = ['January', 'February', 'March', 'April', 'May', 'June', 'July', 'August', 'September',\n",
    "'October', 'November', 'December']\n",
    "\n",
    "sales_data = [12000, 13500, 14200, 12800, 14000, 15500, 16200, 15800, 16500,\n",
    "17800, 18500, 17200]\n",
    "\n",
    "data = pd.DataFrame(sales_data, index=months, columns=[\"Sales\"])\n",
    "print(data)"
   ]
  },
  {
   "cell_type": "code",
   "execution_count": 4,
   "id": "fb844e8e-d466-4e77-981f-b84ab2438459",
   "metadata": {},
   "outputs": [
    {
     "name": "stdout",
     "output_type": "stream",
     "text": [
      "         Batsman  Averages\n",
      "    Rohit Sharma        46\n",
      "Suryakumar Yadav        89\n",
      "     Virat Kohli        56\n",
      "<class 'pandas.core.frame.DataFrame'>\n"
     ]
    }
   ],
   "source": [
    "import pandas as pd\n",
    "\n",
    "cricket = {\n",
    "    \"Batsman\": [\"Rohit Sharma\", \"Suryakumar Yadav\", \"Virat Kohli\"],\n",
    "    \"Averages\": [46, 89, 56]\n",
    "}\n",
    "\n",
    "df = pd.DataFrame(cricket)\n",
    "result = df.to_string(index=False)\n",
    "print(result)\n",
    "print(type(df))"
   ]
  },
  {
   "cell_type": "code",
   "execution_count": 20,
   "id": "4217bc0e-8af8-4884-a671-a7278a4233f6",
   "metadata": {},
   "outputs": [
    {
     "name": "stdout",
     "output_type": "stream",
     "text": [
      "    Month  Sales\n",
      "  January  12000\n",
      " February  13500\n",
      "    March  14200\n",
      "    April  12800\n",
      "      May  14000\n",
      "     June  15500\n",
      "     July  16200\n",
      "   August  15800\n",
      "September  16500\n",
      "  October  17800\n",
      " November  18500\n",
      " December  17200\n",
      "<class 'pandas.core.frame.DataFrame'>\n"
     ]
    }
   ],
   "source": [
    "import pandas as pd\n",
    "\n",
    "months = ['January', 'February', 'March', 'April', 'May', 'June', 'July', 'August', 'September',\n",
    "'October', 'November', 'December']\n",
    "\n",
    "sales_data = [12000, 13500, 14200, 12800, 14000, 15500, 16200, 15800, 16500,\n",
    "17800, 18500, 17200]\n",
    "\n",
    "data = dict(zip(months, sales_data))\n",
    "df = pd.DataFrame(data.items(), columns=[\"Month\", \"Sales\"])\n",
    "result = df.to_string(index=False)\n",
    "print(result)\n",
    "print(type(df))"
   ]
  },
  {
   "cell_type": "code",
   "execution_count": 39,
   "id": "e38370b5-1bfc-4885-9b56-deb89b6af1b2",
   "metadata": {},
   "outputs": [
    {
     "name": "stdout",
     "output_type": "stream",
     "text": [
      "    Month  Sales\n",
      "  January  12000\n",
      " February  13500\n",
      "    March  14200\n",
      "    April  12800\n",
      "      May  14000\n",
      "     June  15500\n",
      "     July  16200\n",
      "   August  15800\n",
      "September  16500\n",
      "  October  17800\n",
      " November  18500\n",
      " December  17200\n",
      "<class 'pandas.core.frame.DataFrame'>\n"
     ]
    },
    {
     "data": {
      "text/plain": [
       "Month    January\n",
       "Sales      12000\n",
       "Name: 0, dtype: object"
      ]
     },
     "execution_count": 39,
     "metadata": {},
     "output_type": "execute_result"
    }
   ],
   "source": [
    "import pandas as pd\n",
    "\n",
    "months = ['January', 'February', 'March', 'April', 'May', 'June', 'July', 'August', 'September',\n",
    "'October', 'November', 'December']\n",
    "\n",
    "sales_data = [12000, 13500, 14200, 12800, 14000, 15500, 16200, 15800, 16500,\n",
    "17800, 18500, 17200]\n",
    "\n",
    "df = pd.DataFrame({\n",
    "    \"Month\": months,\n",
    "    \"Sales\": sales_data\n",
    "})\n",
    "result = df.to_string(index=False)\n",
    "print(result)\n",
    "print(type(df))\n",
    "\n",
    "df.loc[0]"
   ]
  },
  {
   "cell_type": "markdown",
   "id": "4d32ce01-a51a-4876-a00d-b67bce2acdab",
   "metadata": {},
   "source": [
    "# Excel File reading"
   ]
  },
  {
   "cell_type": "code",
   "execution_count": 60,
   "id": "6c49645e-0563-4f0d-a98a-ed644027d4fa",
   "metadata": {},
   "outputs": [
    {
     "name": "stdout",
     "output_type": "stream",
     "text": [
      "              Marks\n",
      "Student Name       \n",
      "Roy              70\n",
      "Jason            89 \n",
      "\n",
      "              Marks\n",
      "Student Name       \n",
      "Jake             88\n",
      "Hilary           80 \n",
      "\n",
      "              Marks\n",
      "Student Name       \n",
      "Smith            91\n",
      "Kyle             91\n",
      "Robin            96\n",
      "Spike            71\n",
      "Matt             67\n",
      "Robinson         69\n",
      "\n",
      "Average Marks:  81.2\n"
     ]
    }
   ],
   "source": [
    "import pandas as pd\n",
    "import numpy as np\n",
    "\n",
    "data = pd.read_excel(\"Excelfile.xlsx\")\n",
    "marks = np.array(data['Marks'])\n",
    "average = np.average(marks)\n",
    "\n",
    "top = data.head(2)\n",
    "bottom = data.tail(2)\n",
    "middle = data.loc[2:7]\n",
    "\n",
    "\n",
    "top.set_index(\"Student Name\", inplace=True)\n",
    "bottom.set_index(\"Student Name\", inplace=True)\n",
    "middle.set_index(\"Student Name\", inplace=True)\n",
    "\n",
    "print(top,  \"\\n\")\n",
    "print(bottom, \"\\n\")\n",
    "print(middle)\n",
    "\n",
    "print(\"\\nAverage Marks: \", average)\n"
   ]
  },
  {
   "cell_type": "code",
   "execution_count": null,
   "id": "27c5d541-b225-4482-b8ca-fd17f1f74c7b",
   "metadata": {},
   "outputs": [],
   "source": []
  },
  {
   "cell_type": "code",
   "execution_count": null,
   "id": "53204870-7e54-4cd2-99bb-27b6b4c8af3e",
   "metadata": {},
   "outputs": [],
   "source": []
  },
  {
   "cell_type": "code",
   "execution_count": null,
   "id": "8ea59307-ae15-40c6-8a57-c1c91c2b77da",
   "metadata": {},
   "outputs": [],
   "source": []
  },
  {
   "cell_type": "code",
   "execution_count": null,
   "id": "0c30ed2b-4cd8-440a-a215-899c313666c5",
   "metadata": {},
   "outputs": [],
   "source": []
  },
  {
   "cell_type": "code",
   "execution_count": null,
   "id": "7f26a2e9-78de-4a0b-99dc-a5a0a32a8882",
   "metadata": {},
   "outputs": [],
   "source": []
  },
  {
   "cell_type": "code",
   "execution_count": null,
   "id": "424d7bef-c05d-454b-ba35-04d97de2cfd5",
   "metadata": {},
   "outputs": [],
   "source": []
  },
  {
   "cell_type": "code",
   "execution_count": null,
   "id": "0991819d-ec64-413d-a694-a057576f75ce",
   "metadata": {},
   "outputs": [],
   "source": []
  },
  {
   "cell_type": "code",
   "execution_count": null,
   "id": "dd1bf85f-c8b0-4dfb-9782-61cdfbfa8ad2",
   "metadata": {},
   "outputs": [],
   "source": []
  },
  {
   "cell_type": "code",
   "execution_count": null,
   "id": "0787740c-7cb0-4842-b4d1-552ebfa9b033",
   "metadata": {},
   "outputs": [],
   "source": []
  },
  {
   "cell_type": "code",
   "execution_count": null,
   "id": "13347ed3-415c-46c4-b23a-02ae078b9ee7",
   "metadata": {},
   "outputs": [],
   "source": []
  },
  {
   "cell_type": "code",
   "execution_count": null,
   "id": "2da9ccb2-56d4-4141-810a-cbc1e92d6224",
   "metadata": {},
   "outputs": [],
   "source": []
  },
  {
   "cell_type": "code",
   "execution_count": null,
   "id": "5b6b6526-183b-407a-b00d-5835fe1411c0",
   "metadata": {},
   "outputs": [],
   "source": []
  },
  {
   "cell_type": "code",
   "execution_count": null,
   "id": "1e73e3f7-38be-4840-a6b2-2e21d089dbac",
   "metadata": {},
   "outputs": [],
   "source": []
  },
  {
   "cell_type": "code",
   "execution_count": null,
   "id": "bb394d05-a315-4310-a6c2-4a3576b83069",
   "metadata": {},
   "outputs": [],
   "source": []
  },
  {
   "cell_type": "code",
   "execution_count": null,
   "id": "23f21433-1591-4d60-b5a4-15e65c1ac20a",
   "metadata": {},
   "outputs": [],
   "source": []
  },
  {
   "cell_type": "code",
   "execution_count": null,
   "id": "530dd081-cde0-47c4-8413-8495e92f5974",
   "metadata": {},
   "outputs": [],
   "source": []
  },
  {
   "cell_type": "code",
   "execution_count": null,
   "id": "61810690-f6a6-4c49-bacc-1e4b27f084ca",
   "metadata": {},
   "outputs": [],
   "source": []
  },
  {
   "cell_type": "code",
   "execution_count": null,
   "id": "79984178-0741-4e44-a19d-6845193a7e8c",
   "metadata": {},
   "outputs": [],
   "source": []
  },
  {
   "cell_type": "code",
   "execution_count": null,
   "id": "d5a15909-07a4-4022-9e5f-bff61fb03280",
   "metadata": {},
   "outputs": [],
   "source": []
  },
  {
   "cell_type": "code",
   "execution_count": null,
   "id": "53c733e9-f10c-4e87-9cc8-4893e83764b1",
   "metadata": {},
   "outputs": [],
   "source": []
  },
  {
   "cell_type": "code",
   "execution_count": null,
   "id": "26e1ce03-1f69-411e-9ddc-e0b96ee836da",
   "metadata": {},
   "outputs": [],
   "source": []
  },
  {
   "cell_type": "code",
   "execution_count": null,
   "id": "2ca19a93-8313-46aa-98ad-719ca2d945db",
   "metadata": {},
   "outputs": [],
   "source": []
  },
  {
   "cell_type": "code",
   "execution_count": null,
   "id": "620196ea-2e79-40ef-9577-34650fb0e8dc",
   "metadata": {},
   "outputs": [],
   "source": []
  },
  {
   "cell_type": "code",
   "execution_count": null,
   "id": "5174e4dd-8100-495e-9d8c-b940e7152e1e",
   "metadata": {},
   "outputs": [],
   "source": []
  },
  {
   "cell_type": "code",
   "execution_count": null,
   "id": "6d5c6387-49be-4761-8306-b0b0168e2394",
   "metadata": {},
   "outputs": [],
   "source": []
  },
  {
   "cell_type": "code",
   "execution_count": null,
   "id": "be9fd851-5647-4f33-af3d-ec887424cdc9",
   "metadata": {},
   "outputs": [],
   "source": []
  },
  {
   "cell_type": "code",
   "execution_count": null,
   "id": "05c1f38f-0566-4702-9cbd-cfd7b8f1edc9",
   "metadata": {},
   "outputs": [],
   "source": []
  },
  {
   "cell_type": "code",
   "execution_count": null,
   "id": "b31e42d1-e5ab-401e-9f13-011508e02764",
   "metadata": {},
   "outputs": [],
   "source": []
  },
  {
   "cell_type": "code",
   "execution_count": null,
   "id": "e5a7893f-3717-4e7c-b295-f957250ac0bb",
   "metadata": {},
   "outputs": [],
   "source": []
  },
  {
   "cell_type": "code",
   "execution_count": null,
   "id": "1393b56d-e666-420f-9fc5-674b11885a0b",
   "metadata": {},
   "outputs": [],
   "source": []
  },
  {
   "cell_type": "code",
   "execution_count": null,
   "id": "4f4a1240-9771-490d-a39b-f190f343d061",
   "metadata": {},
   "outputs": [],
   "source": []
  },
  {
   "cell_type": "code",
   "execution_count": null,
   "id": "ef92f1aa-9233-456e-9b4a-ef4dd9a47407",
   "metadata": {},
   "outputs": [],
   "source": []
  },
  {
   "cell_type": "code",
   "execution_count": null,
   "id": "4aad80df-c4a8-4f6c-8fd7-004ccd905cbf",
   "metadata": {},
   "outputs": [],
   "source": []
  },
  {
   "cell_type": "code",
   "execution_count": null,
   "id": "65b3c1ae-7893-4a6e-b6b0-b97922d6d5f0",
   "metadata": {},
   "outputs": [],
   "source": []
  },
  {
   "cell_type": "code",
   "execution_count": null,
   "id": "5a98744f-da15-4077-990f-a675e77ee3ec",
   "metadata": {},
   "outputs": [],
   "source": []
  },
  {
   "cell_type": "code",
   "execution_count": null,
   "id": "8729c962-58e9-4e9d-a944-839eadbfab0e",
   "metadata": {},
   "outputs": [],
   "source": []
  },
  {
   "cell_type": "code",
   "execution_count": null,
   "id": "1bb74c15-7d52-45d8-9415-d6ea35719071",
   "metadata": {},
   "outputs": [],
   "source": []
  },
  {
   "cell_type": "code",
   "execution_count": null,
   "id": "03257a67-7733-488c-94b9-94f01f47bd8b",
   "metadata": {},
   "outputs": [],
   "source": []
  },
  {
   "cell_type": "code",
   "execution_count": null,
   "id": "a245b7f8-acb1-4af3-8bb9-8b18c57bad7c",
   "metadata": {},
   "outputs": [],
   "source": []
  },
  {
   "cell_type": "code",
   "execution_count": null,
   "id": "3969079c-7a16-4950-9784-4cb75c39555c",
   "metadata": {},
   "outputs": [],
   "source": []
  },
  {
   "cell_type": "code",
   "execution_count": null,
   "id": "7558d8bf-023d-4f69-84af-bc2a9f9fe652",
   "metadata": {},
   "outputs": [],
   "source": []
  },
  {
   "cell_type": "code",
   "execution_count": null,
   "id": "8c11bc1c-3048-4193-acb1-844b6a264874",
   "metadata": {},
   "outputs": [],
   "source": []
  },
  {
   "cell_type": "code",
   "execution_count": null,
   "id": "6ced241f-bfa9-4b06-8f4b-0849f0baab3c",
   "metadata": {},
   "outputs": [],
   "source": []
  },
  {
   "cell_type": "code",
   "execution_count": null,
   "id": "de0acdab-9e06-43ed-aa74-378f50f1aef7",
   "metadata": {},
   "outputs": [],
   "source": []
  },
  {
   "cell_type": "code",
   "execution_count": null,
   "id": "6f3392d3-16d2-49ba-822a-8c5effeff2b6",
   "metadata": {},
   "outputs": [],
   "source": []
  },
  {
   "cell_type": "code",
   "execution_count": null,
   "id": "66114988-f6b6-42df-81a2-0e93555710e6",
   "metadata": {},
   "outputs": [],
   "source": []
  },
  {
   "cell_type": "code",
   "execution_count": null,
   "id": "dde85e75-a894-46d5-98ac-e492e8bbed55",
   "metadata": {},
   "outputs": [],
   "source": []
  },
  {
   "cell_type": "code",
   "execution_count": null,
   "id": "d146a40d-f007-46c0-b95f-f236152f6a79",
   "metadata": {},
   "outputs": [],
   "source": []
  },
  {
   "cell_type": "code",
   "execution_count": null,
   "id": "16d796da-6a9d-4390-9369-91ca9ac42f8e",
   "metadata": {},
   "outputs": [],
   "source": []
  },
  {
   "cell_type": "code",
   "execution_count": null,
   "id": "f7e109f6-5fbb-49b0-a745-0fa082539c61",
   "metadata": {},
   "outputs": [],
   "source": []
  },
  {
   "cell_type": "code",
   "execution_count": null,
   "id": "10047461-882b-42e6-a172-3e0d2bd64e57",
   "metadata": {},
   "outputs": [],
   "source": []
  },
  {
   "cell_type": "code",
   "execution_count": null,
   "id": "1b1afcbd-ba1c-45f6-be2a-c9581d43c2ff",
   "metadata": {},
   "outputs": [],
   "source": []
  },
  {
   "cell_type": "code",
   "execution_count": null,
   "id": "5ac4c1a1-4872-44fa-8acc-6fb8d2afd594",
   "metadata": {},
   "outputs": [],
   "source": []
  },
  {
   "cell_type": "code",
   "execution_count": null,
   "id": "b9612b8c-a58e-45ad-8e37-240f6584352d",
   "metadata": {},
   "outputs": [],
   "source": []
  },
  {
   "cell_type": "code",
   "execution_count": null,
   "id": "eb438152-83c9-453e-946d-1aa15f1d1c42",
   "metadata": {},
   "outputs": [],
   "source": []
  },
  {
   "cell_type": "code",
   "execution_count": null,
   "id": "551acc61-f887-4010-997f-f2fc70c58fae",
   "metadata": {},
   "outputs": [],
   "source": []
  },
  {
   "cell_type": "code",
   "execution_count": null,
   "id": "f7a22920-9f06-41e4-94b0-d977024225bb",
   "metadata": {},
   "outputs": [],
   "source": []
  },
  {
   "cell_type": "code",
   "execution_count": null,
   "id": "c69c8c72-72f9-4cf5-b774-02df41178584",
   "metadata": {},
   "outputs": [],
   "source": []
  },
  {
   "cell_type": "code",
   "execution_count": null,
   "id": "9e4b3d9c-65f7-4e76-960c-0b497084d30f",
   "metadata": {},
   "outputs": [],
   "source": []
  },
  {
   "cell_type": "code",
   "execution_count": null,
   "id": "d0732324-ab29-4688-9e9b-0c0380f99314",
   "metadata": {},
   "outputs": [],
   "source": []
  },
  {
   "cell_type": "code",
   "execution_count": null,
   "id": "1ad91677-3e61-4380-8095-ba628ca627e8",
   "metadata": {},
   "outputs": [],
   "source": []
  },
  {
   "cell_type": "code",
   "execution_count": null,
   "id": "b486ef38-8041-47ab-a640-7bfaa4ae39f9",
   "metadata": {},
   "outputs": [],
   "source": []
  },
  {
   "cell_type": "code",
   "execution_count": null,
   "id": "f18ab90a-fac0-431c-8cad-8d8e86eb9b9a",
   "metadata": {},
   "outputs": [],
   "source": []
  }
 ],
 "metadata": {
  "kernelspec": {
   "display_name": "Python 3 (ipykernel)",
   "language": "python",
   "name": "python3"
  },
  "language_info": {
   "codemirror_mode": {
    "name": "ipython",
    "version": 3
   },
   "file_extension": ".py",
   "mimetype": "text/x-python",
   "name": "python",
   "nbconvert_exporter": "python",
   "pygments_lexer": "ipython3",
   "version": "3.12.2"
  }
 },
 "nbformat": 4,
 "nbformat_minor": 5
}
