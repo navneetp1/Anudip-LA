{
 "cells": [
  {
   "cell_type": "markdown",
   "id": "163d91c3-1362-460f-a2a9-4a0cb1cc2020",
   "metadata": {},
   "source": [
    "# Lab 19"
   ]
  },
  {
   "cell_type": "code",
   "execution_count": 19,
   "id": "aec835c9-88b8-47d4-8d2f-7c6beae106e0",
   "metadata": {},
   "outputs": [
    {
     "name": "stdout",
     "output_type": "stream",
     "text": [
      "Given List of arrays..\n",
      " [array([3, 2, 8, 9]), array([ 4, 12, 34, 25, 78]), array([23, 12, 67])]\n",
      "\n",
      "Array 1: [3 2 8 9]\n",
      "Mean of Array 1 = 5.5\n",
      "\n",
      "Array 2: [ 4 12 34 25 78]\n",
      "Mean of Array 2 = 30.6\n",
      "\n",
      "Array 3: [23 12 67]\n",
      "Mean of Array 3 = 34.0\n",
      "\n",
      "Mean of Each Array: \n",
      "[5.5, 30.6, 34.0]\n"
     ]
    }
   ],
   "source": [
    "import numpy as np\n",
    "\n",
    "mlist = [ np.array([3, 2, 8, 9]), np.array([4, 12, 34, 25, 78]), np.array([23, 12, 67]) ]\n",
    "print(\"Given List of arrays..\\n\", mlist)\n",
    "print()\n",
    "\n",
    "all_means = []\n",
    "\n",
    "for i,arr in enumerate(mlist):\n",
    "    result = np.mean(arr)\n",
    "    print(f\"Array {i+1}:\",arr)\n",
    "    print(f\"Mean of Array {i+1} =\", result)\n",
    "    print()\n",
    "    all_means.append(result)\n",
    "\n",
    "print(\"Mean of Each Array: \")\n",
    "print(all_means)\n"
   ]
  },
  {
   "cell_type": "code",
   "execution_count": 23,
   "id": "be265506-132a-4d2b-ad3e-c1545c8f4cc5",
   "metadata": {},
   "outputs": [
    {
     "name": "stdout",
     "output_type": "stream",
     "text": [
      "Printing the Original Array of odd no of elements:\n",
      "[1 2 3 4 5 6 7]\n",
      "Median of the array that contains odd no of elements 4.0\n",
      "\n",
      "Printing the Original Array of even no of elements:\n",
      "[1 2 3 4 5 6]\n",
      "Median of the array that contains even no of elements 3.5\n"
     ]
    }
   ],
   "source": [
    "import numpy as np\n",
    "\n",
    "x_odd = np.array([1, 2, 3, 4, 5, 6, 7])\n",
    "x_even = np.array([1,2,3,4,5,6])\n",
    "\n",
    "print(\"Printing the Original Array of odd no of elements:\")\n",
    "print(x_odd)\n",
    "\n",
    "x_odd_median = np.median(x_odd)\n",
    "print(\"Median of the array that contains odd no of elements\", x_odd_median)\n",
    "print()\n",
    "\n",
    "print(\"Printing the Original Array of even no of elements:\")\n",
    "print(x_even)\n",
    "\n",
    "x_even_median = np.median(x_even)\n",
    "print(\"Median of the array that contains even no of elements\",x_even_median)\n"
   ]
  },
  {
   "cell_type": "code",
   "execution_count": 31,
   "id": "36d06bfc-01e5-4052-aaf0-d76e305873a5",
   "metadata": {},
   "outputs": [
    {
     "name": "stdout",
     "output_type": "stream",
     "text": [
      "Given array:  [20  2  7  1 34]\n",
      "\n",
      "Standard Deviation with more precision (float64):\n",
      "12.576167937809991 <class 'numpy.float64'>\n",
      "\n",
      "Standard Deviation with less precision (float32):\n",
      "12.576168 <class 'numpy.float32'>\n"
     ]
    }
   ],
   "source": [
    "import numpy as np\n",
    "\n",
    "arr = [20, 2, 7, 1, 34] \n",
    "num = np.array(arr)\n",
    "\n",
    "print(\"Given array: \", num)\n",
    "\n",
    "sd = np.std(num)\n",
    "f32 = sd.astype(\"float32\")\n",
    "print(\"\\nStandard Deviation with more precision (float64):\")\n",
    "print(sd, type(sd))\n",
    "print(\"\\nStandard Deviation with less precision (float32):\")\n",
    "print(f32, type(f32))"
   ]
  },
  {
   "cell_type": "code",
   "execution_count": null,
   "id": "ef0031f8-6770-48c6-8b49-68ee526dde69",
   "metadata": {},
   "outputs": [],
   "source": []
  },
  {
   "cell_type": "code",
   "execution_count": null,
   "id": "12850555-b444-496f-9d57-99bc6166de32",
   "metadata": {},
   "outputs": [],
   "source": []
  },
  {
   "cell_type": "code",
   "execution_count": null,
   "id": "f271066f-7294-4ab8-8df8-c7d3ce5df424",
   "metadata": {},
   "outputs": [],
   "source": []
  },
  {
   "cell_type": "code",
   "execution_count": null,
   "id": "bd4af876-7a7a-4e9e-bfe1-f3af5ada8d50",
   "metadata": {},
   "outputs": [],
   "source": []
  },
  {
   "cell_type": "code",
   "execution_count": null,
   "id": "4ef30d82-deee-4fd6-bedb-7e9ea22ff879",
   "metadata": {},
   "outputs": [],
   "source": []
  },
  {
   "cell_type": "code",
   "execution_count": null,
   "id": "821eec5b-6a10-4269-b5ce-0c346bd2ff0e",
   "metadata": {},
   "outputs": [],
   "source": []
  },
  {
   "cell_type": "code",
   "execution_count": null,
   "id": "e106f452-c74b-4c11-b270-2ddfdba87e44",
   "metadata": {},
   "outputs": [],
   "source": []
  },
  {
   "cell_type": "code",
   "execution_count": null,
   "id": "dad1b8dd-25e1-4e0c-8fc5-03df156ccb36",
   "metadata": {},
   "outputs": [],
   "source": []
  },
  {
   "cell_type": "code",
   "execution_count": null,
   "id": "504a1071-bc07-4149-86f2-3248c73173c2",
   "metadata": {},
   "outputs": [],
   "source": []
  },
  {
   "cell_type": "code",
   "execution_count": null,
   "id": "8f0f772f-cf3e-4950-aacf-3a6b708c6aca",
   "metadata": {},
   "outputs": [],
   "source": []
  },
  {
   "cell_type": "code",
   "execution_count": null,
   "id": "cec4b911-2999-4e51-a91e-1e72432fdd03",
   "metadata": {},
   "outputs": [],
   "source": []
  },
  {
   "cell_type": "code",
   "execution_count": null,
   "id": "cf211395-b272-4210-9db0-a2726fe0da0d",
   "metadata": {},
   "outputs": [],
   "source": []
  },
  {
   "cell_type": "code",
   "execution_count": null,
   "id": "06c40ad9-a8fa-46e8-a87e-ea73138ca253",
   "metadata": {},
   "outputs": [],
   "source": []
  },
  {
   "cell_type": "code",
   "execution_count": null,
   "id": "c02a153d-d9fe-4f79-8667-ff2487f10d1b",
   "metadata": {},
   "outputs": [],
   "source": []
  },
  {
   "cell_type": "code",
   "execution_count": null,
   "id": "09b9c781-d404-496f-bb0e-a3657ce90e43",
   "metadata": {},
   "outputs": [],
   "source": []
  },
  {
   "cell_type": "code",
   "execution_count": null,
   "id": "ec2357f5-a220-4b2f-bab8-e9c650ede63e",
   "metadata": {},
   "outputs": [],
   "source": []
  },
  {
   "cell_type": "code",
   "execution_count": null,
   "id": "6221f9d3-def0-455f-8e72-d8079be3e4f8",
   "metadata": {},
   "outputs": [],
   "source": []
  },
  {
   "cell_type": "code",
   "execution_count": null,
   "id": "0f186d4b-37de-46fe-a1d7-ebcdefae0026",
   "metadata": {},
   "outputs": [],
   "source": []
  }
 ],
 "metadata": {
  "kernelspec": {
   "display_name": "Python 3 (ipykernel)",
   "language": "python",
   "name": "python3"
  },
  "language_info": {
   "codemirror_mode": {
    "name": "ipython",
    "version": 3
   },
   "file_extension": ".py",
   "mimetype": "text/x-python",
   "name": "python",
   "nbconvert_exporter": "python",
   "pygments_lexer": "ipython3",
   "version": "3.12.2"
  }
 },
 "nbformat": 4,
 "nbformat_minor": 5
}
